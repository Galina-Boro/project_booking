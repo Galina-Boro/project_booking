{
 "cells": [
  {
   "cell_type": "code",
   "execution_count": 152,
   "metadata": {
    "_cell_guid": "b1076dfc-b9ad-4769-8c92-a6c4dae69d19",
    "_uuid": "8f2839f25d086af736a60e9eeb907d3b93b6e0e5",
    "execution": {
     "iopub.execute_input": "2023-07-16T08:13:00.991499Z",
     "iopub.status.busy": "2023-07-16T08:13:00.990327Z",
     "iopub.status.idle": "2023-07-16T08:13:01.014622Z",
     "shell.execute_reply": "2023-07-16T08:13:01.012959Z",
     "shell.execute_reply.started": "2023-07-16T08:13:00.991419Z"
    }
   },
   "outputs": [
    {
     "name": "stdout",
     "output_type": "stream",
     "text": [
      "/kaggle/input/sf-booking/hotels_test.csv\n",
      "/kaggle/input/sf-booking/hotels_train.csv\n",
      "/kaggle/input/sf-booking/submission.csv\n"
     ]
    }
   ],
   "source": [
    "# This Python 3 environment comes with many helpful analytics libraries installed\n",
    "# It is defined by the kaggle/python Docker image: https://github.com/kaggle/docker-python\n",
    "# For example, here's several helpful packages to load\n",
    "\n",
    "import numpy as np # linear algebra\n",
    "import pandas as pd # data processing, CSV file I/O (e.g. pd.read_csv)\n",
    "\n",
    "# Input data files are available in the read-only \"../input/\" directory\n",
    "# For example, running this (by clicking run or pressing Shift+Enter) will list all files under the input directory\n",
    "\n",
    "# импортируем библиотеки для визуализации\n",
    "import matplotlib.pyplot as plt\n",
    "import seaborn as sns \n",
    "%matplotlib inline\n",
    "\n",
    "import os\n",
    "for dirname, _, filenames in os.walk('/kaggle/input'):\n",
    "    for filename in filenames:\n",
    "        print(os.path.join(dirname, filename))\n",
    "\n",
    "# You can write up to 20GB to the current directory (/kaggle/working/) that gets preserved as output when you create a version using \"Save & Run All\" \n",
    "# You can also write temporary files to /kaggle/temp/, but they won't be saved outside of the current session"
   ]
  },
  {
   "cell_type": "code",
   "execution_count": 153,
   "metadata": {
    "execution": {
     "iopub.execute_input": "2023-07-16T08:13:12.403164Z",
     "iopub.status.busy": "2023-07-16T08:13:12.402643Z",
     "iopub.status.idle": "2023-07-16T08:13:15.068831Z",
     "shell.execute_reply": "2023-07-16T08:13:15.067010Z",
     "shell.execute_reply.started": "2023-07-16T08:13:12.403115Z"
    }
   },
   "outputs": [],
   "source": [
    "# зафиксируем версию пакетов, чтобы эксперименты были воспроизводимы:\n",
    "!pip freeze > requirements.txt"
   ]
  },
  {
   "cell_type": "code",
   "execution_count": 154,
   "metadata": {
    "execution": {
     "iopub.execute_input": "2023-07-16T08:13:21.202631Z",
     "iopub.status.busy": "2023-07-16T08:13:21.202177Z",
     "iopub.status.idle": "2023-07-16T08:13:26.313351Z",
     "shell.execute_reply": "2023-07-16T08:13:26.312065Z",
     "shell.execute_reply.started": "2023-07-16T08:13:21.202597Z"
    }
   },
   "outputs": [],
   "source": [
    "# Подгрузим наши данные из соревнования\n",
    "\n",
    "DATA_DIR = '/kaggle/input/sf-booking/'\n",
    "df_train = pd.read_csv(DATA_DIR+'/hotels_train.csv') # датасет для обучения\n",
    "df_test = pd.read_csv(DATA_DIR+'hotels_test.csv') # датасет для предсказания\n",
    "sample_submission = pd.read_csv(DATA_DIR+'/submission.csv') # самбмишн"
   ]
  },
  {
   "cell_type": "code",
   "execution_count": 155,
   "metadata": {
    "execution": {
     "iopub.execute_input": "2023-07-16T08:13:32.191076Z",
     "iopub.status.busy": "2023-07-16T08:13:32.190643Z",
     "iopub.status.idle": "2023-07-16T08:13:32.269328Z",
     "shell.execute_reply": "2023-07-16T08:13:32.267795Z",
     "shell.execute_reply.started": "2023-07-16T08:13:32.191041Z"
    }
   },
   "outputs": [],
   "source": [
    "# ВАЖНО! дря корректной обработки признаков объединяем трейн и тест в один датасет\n",
    "df_train['sample'] = 1 # помечаем где у нас трейн\n",
    "df_test['sample'] = 0 # помечаем где у нас тест\n",
    "df_test['reviewer_score'] = 0 # в тесте у нас нет значения reviewer_score, мы его должны предсказать, по этому пока просто заполняем нулями\n",
    "\n",
    "hotels = pd.concat([df_test,df_train],ignore_index=True) # объединяем"
   ]
  },
  {
   "cell_type": "code",
   "execution_count": 156,
   "metadata": {
    "execution": {
     "iopub.execute_input": "2023-07-16T08:13:36.872551Z",
     "iopub.status.busy": "2023-07-16T08:13:36.872090Z",
     "iopub.status.idle": "2023-07-16T08:13:37.567583Z",
     "shell.execute_reply": "2023-07-16T08:13:37.566334Z",
     "shell.execute_reply.started": "2023-07-16T08:13:36.872510Z"
    }
   },
   "outputs": [
    {
     "name": "stdout",
     "output_type": "stream",
     "text": [
      "<class 'pandas.core.frame.DataFrame'>\n",
      "RangeIndex: 515738 entries, 0 to 515737\n",
      "Data columns (total 18 columns):\n",
      " #   Column                                      Non-Null Count   Dtype  \n",
      "---  ------                                      --------------   -----  \n",
      " 0   hotel_address                               515738 non-null  object \n",
      " 1   additional_number_of_scoring                515738 non-null  int64  \n",
      " 2   review_date                                 515738 non-null  object \n",
      " 3   average_score                               515738 non-null  float64\n",
      " 4   hotel_name                                  515738 non-null  object \n",
      " 5   reviewer_nationality                        515738 non-null  object \n",
      " 6   negative_review                             515738 non-null  object \n",
      " 7   review_total_negative_word_counts           515738 non-null  int64  \n",
      " 8   total_number_of_reviews                     515738 non-null  int64  \n",
      " 9   positive_review                             515738 non-null  object \n",
      " 10  review_total_positive_word_counts           515738 non-null  int64  \n",
      " 11  total_number_of_reviews_reviewer_has_given  515738 non-null  int64  \n",
      " 12  tags                                        515738 non-null  object \n",
      " 13  days_since_review                           515738 non-null  object \n",
      " 14  lat                                         512470 non-null  float64\n",
      " 15  lng                                         512470 non-null  float64\n",
      " 16  sample                                      515738 non-null  int64  \n",
      " 17  reviewer_score                              515738 non-null  float64\n",
      "dtypes: float64(4), int64(6), object(8)\n",
      "memory usage: 70.8+ MB\n"
     ]
    }
   ],
   "source": [
    "hotels.info()"
   ]
  },
  {
   "cell_type": "markdown",
   "metadata": {},
   "source": [
    "Смотрим на столбцы, определаем план работы с признакими:\n",
    "* 0 адрес отеля : отсюда можно взять признак страна и город отеля (очень похожи)\n",
    "* 1 additional_number_of_scoring - так оставить (хоть есть корреляция)\n",
    "* 2 review_date                                 признак год, месяц, день??? \n",
    "* 3   average_score                               оценка наиболее значимый признак должен быть (похож с таргет)\n",
    "* 4   hotel_name                                 имя в итоге ничего не даст, количество уникальных значений...(повторы?\n",
    "* 5   reviewer_nationality                        кодировать в бинарные (их очень много)\n",
    "* 6   negative_review                            сделать функцию частые слова - новые признаки*(1)*\n",
    "* 7   review_total_negative_word_counts          ничего не меняем (должен быть хороший признак\n",
    "* 8   total_number_of_reviews                     корреляция с дополнительным, оставляем пока\n",
    "* 9   positive_review                             кодируем 10 по частоте слов? *(1)*\n",
    "* 10  review_total_positive_word_counts            ничего не меняем\n",
    "* 11  total_number_of_reviews_reviewer_has_given  оставляем\n",
    "* 12  reviewer_score                              таргет\n",
    "* 13  tags                                        дополнительно несколько признако (по частоте) , призак количество ночей\n",
    "* 14  days_since_review                           меняем признак на количественный (не кажется, что влияет на оценку), не очень понятный признак\n",
    "* 15  lat                                        надо заполнить пропуски\n",
    "* 16  lng                                       надо заполнить пропуски"
   ]
  },
  {
   "cell_type": "code",
   "execution_count": 157,
   "metadata": {
    "execution": {
     "iopub.execute_input": "2023-07-16T08:14:38.012615Z",
     "iopub.status.busy": "2023-07-16T08:14:38.012165Z",
     "iopub.status.idle": "2023-07-16T08:14:39.588088Z",
     "shell.execute_reply": "2023-07-16T08:14:39.587188Z",
     "shell.execute_reply.started": "2023-07-16T08:14:38.012578Z"
    }
   },
   "outputs": [
    {
     "data": {
      "text/plain": [
       "26726     Copthorne Tara Hotel London Kensington\n",
       "49098                H tel Concorde Montparnasse\n",
       "49541                H tel Concorde Montparnasse\n",
       "50267                                H tel Baume\n",
       "51878                H tel Concorde Montparnasse\n",
       "                           ...                  \n",
       "512039                               H tel Baume\n",
       "512118               H tel Concorde Montparnasse\n",
       "512733               H tel Concorde Montparnasse\n",
       "513053               H tel Concorde Montparnasse\n",
       "514376               H tel Concorde Montparnasse\n",
       "Name: hotel_name, Length: 336, dtype: object"
      ]
     },
     "execution_count": 157,
     "metadata": {},
     "output_type": "execute_result"
    }
   ],
   "source": [
    "#проверим дубликаты\n",
    "hotels_dubl = hotels[hotels.duplicated()]\n",
    "hotels_dubl['hotel_name']"
   ]
  },
  {
   "cell_type": "code",
   "execution_count": 158,
   "metadata": {
    "execution": {
     "iopub.execute_input": "2023-07-16T08:14:42.539239Z",
     "iopub.status.busy": "2023-07-16T08:14:42.538600Z",
     "iopub.status.idle": "2023-07-16T08:14:42.575774Z",
     "shell.execute_reply": "2023-07-16T08:14:42.574180Z",
     "shell.execute_reply.started": "2023-07-16T08:14:42.539194Z"
    }
   },
   "outputs": [
    {
     "data": {
      "text/html": [
       "<div>\n",
       "<style scoped>\n",
       "    .dataframe tbody tr th:only-of-type {\n",
       "        vertical-align: middle;\n",
       "    }\n",
       "\n",
       "    .dataframe tbody tr th {\n",
       "        vertical-align: top;\n",
       "    }\n",
       "\n",
       "    .dataframe thead th {\n",
       "        text-align: right;\n",
       "    }\n",
       "</style>\n",
       "<table border=\"1\" class=\"dataframe\">\n",
       "  <thead>\n",
       "    <tr style=\"text-align: right;\">\n",
       "      <th></th>\n",
       "      <th>hotel_address</th>\n",
       "      <th>additional_number_of_scoring</th>\n",
       "      <th>review_date</th>\n",
       "      <th>average_score</th>\n",
       "      <th>hotel_name</th>\n",
       "      <th>reviewer_nationality</th>\n",
       "      <th>negative_review</th>\n",
       "      <th>review_total_negative_word_counts</th>\n",
       "      <th>total_number_of_reviews</th>\n",
       "      <th>positive_review</th>\n",
       "      <th>review_total_positive_word_counts</th>\n",
       "      <th>total_number_of_reviews_reviewer_has_given</th>\n",
       "      <th>tags</th>\n",
       "      <th>days_since_review</th>\n",
       "      <th>lat</th>\n",
       "      <th>lng</th>\n",
       "      <th>sample</th>\n",
       "      <th>reviewer_score</th>\n",
       "    </tr>\n",
       "  </thead>\n",
       "  <tbody>\n",
       "    <tr>\n",
       "      <th>49098</th>\n",
       "      <td>40 Rue du Commandant Ren Mouchotte 14th arr 75...</td>\n",
       "      <td>228</td>\n",
       "      <td>7/16/2017</td>\n",
       "      <td>7.9</td>\n",
       "      <td>H tel Concorde Montparnasse</td>\n",
       "      <td>United States of America</td>\n",
       "      <td>No Negative</td>\n",
       "      <td>0</td>\n",
       "      <td>2515</td>\n",
       "      <td>Good location for late night arrival by train...</td>\n",
       "      <td>29</td>\n",
       "      <td>2</td>\n",
       "      <td>[' Leisure trip ', ' Family with young childre...</td>\n",
       "      <td>18 days</td>\n",
       "      <td>48.838108</td>\n",
       "      <td>2.318669</td>\n",
       "      <td>0</td>\n",
       "      <td>0.0</td>\n",
       "    </tr>\n",
       "    <tr>\n",
       "      <th>49541</th>\n",
       "      <td>40 Rue du Commandant Ren Mouchotte 14th arr 75...</td>\n",
       "      <td>228</td>\n",
       "      <td>4/9/2017</td>\n",
       "      <td>7.9</td>\n",
       "      <td>H tel Concorde Montparnasse</td>\n",
       "      <td>Lebanon</td>\n",
       "      <td>Elevator needs restoration Cleaning</td>\n",
       "      <td>5</td>\n",
       "      <td>2515</td>\n",
       "      <td>No Positive</td>\n",
       "      <td>0</td>\n",
       "      <td>12</td>\n",
       "      <td>[' Leisure trip ', ' Solo traveler ', ' Classi...</td>\n",
       "      <td>116 day</td>\n",
       "      <td>48.838108</td>\n",
       "      <td>2.318669</td>\n",
       "      <td>0</td>\n",
       "      <td>0.0</td>\n",
       "    </tr>\n",
       "    <tr>\n",
       "      <th>51878</th>\n",
       "      <td>40 Rue du Commandant Ren Mouchotte 14th arr 75...</td>\n",
       "      <td>228</td>\n",
       "      <td>7/5/2017</td>\n",
       "      <td>7.9</td>\n",
       "      <td>H tel Concorde Montparnasse</td>\n",
       "      <td>Belgium</td>\n",
       "      <td>Absence of a proper fridge what they call min...</td>\n",
       "      <td>25</td>\n",
       "      <td>2515</td>\n",
       "      <td>Very comfy beds friendly and efficient recept...</td>\n",
       "      <td>9</td>\n",
       "      <td>9</td>\n",
       "      <td>[' Leisure trip ', ' Solo traveler ', ' Classi...</td>\n",
       "      <td>29 days</td>\n",
       "      <td>48.838108</td>\n",
       "      <td>2.318669</td>\n",
       "      <td>0</td>\n",
       "      <td>0.0</td>\n",
       "    </tr>\n",
       "    <tr>\n",
       "      <th>53975</th>\n",
       "      <td>40 Rue du Commandant Ren Mouchotte 14th arr 75...</td>\n",
       "      <td>228</td>\n",
       "      <td>12/24/2015</td>\n",
       "      <td>7.9</td>\n",
       "      <td>H tel Concorde Montparnasse</td>\n",
       "      <td>France</td>\n",
       "      <td>No Negative</td>\n",
       "      <td>0</td>\n",
       "      <td>2515</td>\n",
       "      <td>Good location for station and buses to CDG Ai...</td>\n",
       "      <td>11</td>\n",
       "      <td>32</td>\n",
       "      <td>[' Leisure trip ', ' Couple ', ' Classic Doubl...</td>\n",
       "      <td>588 day</td>\n",
       "      <td>48.838108</td>\n",
       "      <td>2.318669</td>\n",
       "      <td>0</td>\n",
       "      <td>0.0</td>\n",
       "    </tr>\n",
       "    <tr>\n",
       "      <th>81775</th>\n",
       "      <td>40 Rue du Commandant Ren Mouchotte 14th arr 75...</td>\n",
       "      <td>228</td>\n",
       "      <td>6/14/2017</td>\n",
       "      <td>7.9</td>\n",
       "      <td>H tel Concorde Montparnasse</td>\n",
       "      <td>Australia</td>\n",
       "      <td>No Negative</td>\n",
       "      <td>0</td>\n",
       "      <td>2515</td>\n",
       "      <td>Location</td>\n",
       "      <td>2</td>\n",
       "      <td>16</td>\n",
       "      <td>[' Leisure trip ', ' Group ', ' Deluxe Double ...</td>\n",
       "      <td>50 days</td>\n",
       "      <td>48.838108</td>\n",
       "      <td>2.318669</td>\n",
       "      <td>0</td>\n",
       "      <td>0.0</td>\n",
       "    </tr>\n",
       "    <tr>\n",
       "      <th>...</th>\n",
       "      <td>...</td>\n",
       "      <td>...</td>\n",
       "      <td>...</td>\n",
       "      <td>...</td>\n",
       "      <td>...</td>\n",
       "      <td>...</td>\n",
       "      <td>...</td>\n",
       "      <td>...</td>\n",
       "      <td>...</td>\n",
       "      <td>...</td>\n",
       "      <td>...</td>\n",
       "      <td>...</td>\n",
       "      <td>...</td>\n",
       "      <td>...</td>\n",
       "      <td>...</td>\n",
       "      <td>...</td>\n",
       "      <td>...</td>\n",
       "      <td>...</td>\n",
       "    </tr>\n",
       "    <tr>\n",
       "      <th>511651</th>\n",
       "      <td>40 Rue du Commandant Ren Mouchotte 14th arr 75...</td>\n",
       "      <td>228</td>\n",
       "      <td>9/22/2015</td>\n",
       "      <td>7.9</td>\n",
       "      <td>H tel Concorde Montparnasse</td>\n",
       "      <td>Lebanon</td>\n",
       "      <td>The wifi is horrible Always something is need...</td>\n",
       "      <td>41</td>\n",
       "      <td>2515</td>\n",
       "      <td>The location is half an hour walking to saint...</td>\n",
       "      <td>16</td>\n",
       "      <td>3</td>\n",
       "      <td>[' Leisure trip ', ' Couple ', ' Deluxe Double...</td>\n",
       "      <td>681 day</td>\n",
       "      <td>48.838108</td>\n",
       "      <td>2.318669</td>\n",
       "      <td>1</td>\n",
       "      <td>7.5</td>\n",
       "    </tr>\n",
       "    <tr>\n",
       "      <th>512118</th>\n",
       "      <td>40 Rue du Commandant Ren Mouchotte 14th arr 75...</td>\n",
       "      <td>228</td>\n",
       "      <td>7/28/2016</td>\n",
       "      <td>7.9</td>\n",
       "      <td>H tel Concorde Montparnasse</td>\n",
       "      <td>France</td>\n",
       "      <td>A bit noisy old fashion At almost 20 the brea...</td>\n",
       "      <td>18</td>\n",
       "      <td>2515</td>\n",
       "      <td>Convenient if one arrives departs from the Mo...</td>\n",
       "      <td>10</td>\n",
       "      <td>48</td>\n",
       "      <td>[' Business trip ', ' Solo traveler ', ' Class...</td>\n",
       "      <td>371 day</td>\n",
       "      <td>48.838108</td>\n",
       "      <td>2.318669</td>\n",
       "      <td>1</td>\n",
       "      <td>6.7</td>\n",
       "    </tr>\n",
       "    <tr>\n",
       "      <th>512733</th>\n",
       "      <td>40 Rue du Commandant Ren Mouchotte 14th arr 75...</td>\n",
       "      <td>228</td>\n",
       "      <td>5/15/2017</td>\n",
       "      <td>7.9</td>\n",
       "      <td>H tel Concorde Montparnasse</td>\n",
       "      <td>United Kingdom</td>\n",
       "      <td>twice spoken to staff to replace the coffee w...</td>\n",
       "      <td>24</td>\n",
       "      <td>2515</td>\n",
       "      <td>Tea making facilities not in the room only co...</td>\n",
       "      <td>11</td>\n",
       "      <td>2</td>\n",
       "      <td>[' Leisure trip ', ' Couple ', ' Superior Doub...</td>\n",
       "      <td>80 days</td>\n",
       "      <td>48.838108</td>\n",
       "      <td>2.318669</td>\n",
       "      <td>1</td>\n",
       "      <td>7.9</td>\n",
       "    </tr>\n",
       "    <tr>\n",
       "      <th>513053</th>\n",
       "      <td>40 Rue du Commandant Ren Mouchotte 14th arr 75...</td>\n",
       "      <td>228</td>\n",
       "      <td>10/12/2015</td>\n",
       "      <td>7.9</td>\n",
       "      <td>H tel Concorde Montparnasse</td>\n",
       "      <td>Australia</td>\n",
       "      <td>No great restaurants within a short walk but ...</td>\n",
       "      <td>12</td>\n",
       "      <td>2515</td>\n",
       "      <td>The Hotel was wonderfully p laced for us to a...</td>\n",
       "      <td>44</td>\n",
       "      <td>24</td>\n",
       "      <td>[' Leisure trip ', ' Couple ', ' Classic Doubl...</td>\n",
       "      <td>661 day</td>\n",
       "      <td>48.838108</td>\n",
       "      <td>2.318669</td>\n",
       "      <td>1</td>\n",
       "      <td>10.0</td>\n",
       "    </tr>\n",
       "    <tr>\n",
       "      <th>514376</th>\n",
       "      <td>40 Rue du Commandant Ren Mouchotte 14th arr 75...</td>\n",
       "      <td>228</td>\n",
       "      <td>8/25/2015</td>\n",
       "      <td>7.9</td>\n",
       "      <td>H tel Concorde Montparnasse</td>\n",
       "      <td>France</td>\n",
       "      <td>Rooms not very noise insulated within the bui...</td>\n",
       "      <td>9</td>\n",
       "      <td>2515</td>\n",
       "      <td>No Positive</td>\n",
       "      <td>0</td>\n",
       "      <td>18</td>\n",
       "      <td>[' Leisure trip ', ' Couple ', ' Superior Doub...</td>\n",
       "      <td>709 day</td>\n",
       "      <td>48.838108</td>\n",
       "      <td>2.318669</td>\n",
       "      <td>1</td>\n",
       "      <td>8.3</td>\n",
       "    </tr>\n",
       "  </tbody>\n",
       "</table>\n",
       "<p>235 rows × 18 columns</p>\n",
       "</div>"
      ],
      "text/plain": [
       "                                            hotel_address  \\\n",
       "49098   40 Rue du Commandant Ren Mouchotte 14th arr 75...   \n",
       "49541   40 Rue du Commandant Ren Mouchotte 14th arr 75...   \n",
       "51878   40 Rue du Commandant Ren Mouchotte 14th arr 75...   \n",
       "53975   40 Rue du Commandant Ren Mouchotte 14th arr 75...   \n",
       "81775   40 Rue du Commandant Ren Mouchotte 14th arr 75...   \n",
       "...                                                   ...   \n",
       "511651  40 Rue du Commandant Ren Mouchotte 14th arr 75...   \n",
       "512118  40 Rue du Commandant Ren Mouchotte 14th arr 75...   \n",
       "512733  40 Rue du Commandant Ren Mouchotte 14th arr 75...   \n",
       "513053  40 Rue du Commandant Ren Mouchotte 14th arr 75...   \n",
       "514376  40 Rue du Commandant Ren Mouchotte 14th arr 75...   \n",
       "\n",
       "        additional_number_of_scoring review_date  average_score  \\\n",
       "49098                            228   7/16/2017            7.9   \n",
       "49541                            228    4/9/2017            7.9   \n",
       "51878                            228    7/5/2017            7.9   \n",
       "53975                            228  12/24/2015            7.9   \n",
       "81775                            228   6/14/2017            7.9   \n",
       "...                              ...         ...            ...   \n",
       "511651                           228   9/22/2015            7.9   \n",
       "512118                           228   7/28/2016            7.9   \n",
       "512733                           228   5/15/2017            7.9   \n",
       "513053                           228  10/12/2015            7.9   \n",
       "514376                           228   8/25/2015            7.9   \n",
       "\n",
       "                         hotel_name        reviewer_nationality  \\\n",
       "49098   H tel Concorde Montparnasse   United States of America    \n",
       "49541   H tel Concorde Montparnasse                    Lebanon    \n",
       "51878   H tel Concorde Montparnasse                    Belgium    \n",
       "53975   H tel Concorde Montparnasse                     France    \n",
       "81775   H tel Concorde Montparnasse                  Australia    \n",
       "...                             ...                         ...   \n",
       "511651  H tel Concorde Montparnasse                    Lebanon    \n",
       "512118  H tel Concorde Montparnasse                     France    \n",
       "512733  H tel Concorde Montparnasse             United Kingdom    \n",
       "513053  H tel Concorde Montparnasse                  Australia    \n",
       "514376  H tel Concorde Montparnasse                     France    \n",
       "\n",
       "                                          negative_review  \\\n",
       "49098                                         No Negative   \n",
       "49541                 Elevator needs restoration Cleaning   \n",
       "51878    Absence of a proper fridge what they call min...   \n",
       "53975                                         No Negative   \n",
       "81775                                         No Negative   \n",
       "...                                                   ...   \n",
       "511651   The wifi is horrible Always something is need...   \n",
       "512118   A bit noisy old fashion At almost 20 the brea...   \n",
       "512733   twice spoken to staff to replace the coffee w...   \n",
       "513053   No great restaurants within a short walk but ...   \n",
       "514376   Rooms not very noise insulated within the bui...   \n",
       "\n",
       "        review_total_negative_word_counts  total_number_of_reviews  \\\n",
       "49098                                   0                     2515   \n",
       "49541                                   5                     2515   \n",
       "51878                                  25                     2515   \n",
       "53975                                   0                     2515   \n",
       "81775                                   0                     2515   \n",
       "...                                   ...                      ...   \n",
       "511651                                 41                     2515   \n",
       "512118                                 18                     2515   \n",
       "512733                                 24                     2515   \n",
       "513053                                 12                     2515   \n",
       "514376                                  9                     2515   \n",
       "\n",
       "                                          positive_review  \\\n",
       "49098    Good location for late night arrival by train...   \n",
       "49541                                         No Positive   \n",
       "51878    Very comfy beds friendly and efficient recept...   \n",
       "53975    Good location for station and buses to CDG Ai...   \n",
       "81775                                            Location   \n",
       "...                                                   ...   \n",
       "511651   The location is half an hour walking to saint...   \n",
       "512118   Convenient if one arrives departs from the Mo...   \n",
       "512733   Tea making facilities not in the room only co...   \n",
       "513053   The Hotel was wonderfully p laced for us to a...   \n",
       "514376                                        No Positive   \n",
       "\n",
       "        review_total_positive_word_counts  \\\n",
       "49098                                  29   \n",
       "49541                                   0   \n",
       "51878                                   9   \n",
       "53975                                  11   \n",
       "81775                                   2   \n",
       "...                                   ...   \n",
       "511651                                 16   \n",
       "512118                                 10   \n",
       "512733                                 11   \n",
       "513053                                 44   \n",
       "514376                                  0   \n",
       "\n",
       "        total_number_of_reviews_reviewer_has_given  \\\n",
       "49098                                            2   \n",
       "49541                                           12   \n",
       "51878                                            9   \n",
       "53975                                           32   \n",
       "81775                                           16   \n",
       "...                                            ...   \n",
       "511651                                           3   \n",
       "512118                                          48   \n",
       "512733                                           2   \n",
       "513053                                          24   \n",
       "514376                                          18   \n",
       "\n",
       "                                                     tags days_since_review  \\\n",
       "49098   [' Leisure trip ', ' Family with young childre...           18 days   \n",
       "49541   [' Leisure trip ', ' Solo traveler ', ' Classi...           116 day   \n",
       "51878   [' Leisure trip ', ' Solo traveler ', ' Classi...           29 days   \n",
       "53975   [' Leisure trip ', ' Couple ', ' Classic Doubl...           588 day   \n",
       "81775   [' Leisure trip ', ' Group ', ' Deluxe Double ...           50 days   \n",
       "...                                                   ...               ...   \n",
       "511651  [' Leisure trip ', ' Couple ', ' Deluxe Double...           681 day   \n",
       "512118  [' Business trip ', ' Solo traveler ', ' Class...           371 day   \n",
       "512733  [' Leisure trip ', ' Couple ', ' Superior Doub...           80 days   \n",
       "513053  [' Leisure trip ', ' Couple ', ' Classic Doubl...           661 day   \n",
       "514376  [' Leisure trip ', ' Couple ', ' Superior Doub...           709 day   \n",
       "\n",
       "              lat       lng  sample  reviewer_score  \n",
       "49098   48.838108  2.318669       0             0.0  \n",
       "49541   48.838108  2.318669       0             0.0  \n",
       "51878   48.838108  2.318669       0             0.0  \n",
       "53975   48.838108  2.318669       0             0.0  \n",
       "81775   48.838108  2.318669       0             0.0  \n",
       "...           ...       ...     ...             ...  \n",
       "511651  48.838108  2.318669       1             7.5  \n",
       "512118  48.838108  2.318669       1             6.7  \n",
       "512733  48.838108  2.318669       1             7.9  \n",
       "513053  48.838108  2.318669       1            10.0  \n",
       "514376  48.838108  2.318669       1             8.3  \n",
       "\n",
       "[235 rows x 18 columns]"
      ]
     },
     "execution_count": 158,
     "metadata": {},
     "output_type": "execute_result"
    }
   ],
   "source": [
    "# возьмем пример конкретного отеля из списка дубликатов\n",
    "hotels_dubl[hotels_dubl['hotel_name'] == hotels_dubl['hotel_name'][49098]]"
   ]
  },
  {
   "cell_type": "markdown",
   "metadata": {},
   "source": [
    "видим, что записи не полностью идентичны, поэтому не будем удалить дубиликаты, тем более их всего 336 "
   ]
  },
  {
   "cell_type": "markdown",
   "metadata": {},
   "source": [
    "убиерем пропуски, они есть в стобцах 'lat'и 'lng': "
   ]
  },
  {
   "cell_type": "code",
   "execution_count": 159,
   "metadata": {
    "execution": {
     "iopub.execute_input": "2023-07-16T08:14:52.059841Z",
     "iopub.status.busy": "2023-07-16T08:14:52.059003Z",
     "iopub.status.idle": "2023-07-16T08:14:52.080063Z",
     "shell.execute_reply": "2023-07-16T08:14:52.078823Z",
     "shell.execute_reply.started": "2023-07-16T08:14:52.059801Z"
    }
   },
   "outputs": [
    {
     "data": {
      "text/plain": [
       "{'Austria Trend Hotel Schloss Wilhelminenberg Wien',\n",
       " 'City Hotel Deutschmeister',\n",
       " 'Cordial Theaterhotel Wien',\n",
       " 'Derag Livinghotel Kaiser Franz Joseph Vienna',\n",
       " 'Fleming s Selection Hotel Wien City',\n",
       " 'Holiday Inn Paris Montmartre',\n",
       " 'Hotel Advance',\n",
       " 'Hotel Atlanta',\n",
       " 'Hotel City Central',\n",
       " 'Hotel Daniel Vienna',\n",
       " 'Hotel Park Villa',\n",
       " 'Hotel Pension Baron am Schottentor',\n",
       " 'Maison Albar Hotel Paris Op ra Diamond',\n",
       " 'Mercure Paris Gare Montparnasse',\n",
       " 'NH Collection Barcelona Podium',\n",
       " 'Renaissance Barcelona Hotel',\n",
       " 'Roomz Vienna'}"
      ]
     },
     "metadata": {},
     "output_type": "display_data"
    },
    {
     "name": "stdout",
     "output_type": "stream",
     "text": [
      "количество отелей с пустыми координатами: 17\n"
     ]
    }
   ],
   "source": [
    "# создадим список с пропущеными значениям\n",
    "hotels_isnull = hotels[hotels['lat'].isnull() | hotels['lng'].isnull()]\n",
    "list_null = hotels_isnull['hotel_name'].value_counts()\n",
    "list_isnull = set(hotels_isnull['hotel_name'])\n",
    "display(list_isnull)\n",
    "print('количество отелей с пустыми координатами:', len(list_isnull))\n",
    "list_isnull = list(list_isnull)"
   ]
  },
  {
   "cell_type": "code",
   "execution_count": 160,
   "metadata": {
    "execution": {
     "iopub.execute_input": "2023-07-16T08:14:56.387898Z",
     "iopub.status.busy": "2023-07-16T08:14:56.387469Z",
     "iopub.status.idle": "2023-07-16T08:15:08.336636Z",
     "shell.execute_reply": "2023-07-16T08:15:08.335255Z",
     "shell.execute_reply.started": "2023-07-16T08:14:56.387864Z"
    }
   },
   "outputs": [
    {
     "name": "stdout",
     "output_type": "stream",
     "text": [
      "Requirement already satisfied: geopy in /opt/conda/lib/python3.10/site-packages (2.3.0)\n",
      "Requirement already satisfied: geographiclib<3,>=1.52 in /opt/conda/lib/python3.10/site-packages (from geopy) (2.0)\n"
     ]
    }
   ],
   "source": [
    "# заполним пропуски с помощью библиотеки geopy\n",
    "! pip install geopy"
   ]
  },
  {
   "cell_type": "code",
   "execution_count": 161,
   "metadata": {
    "execution": {
     "iopub.execute_input": "2023-07-16T08:15:10.292675Z",
     "iopub.status.busy": "2023-07-16T08:15:10.292192Z",
     "iopub.status.idle": "2023-07-16T08:15:18.857486Z",
     "shell.execute_reply": "2023-07-16T08:15:18.855910Z",
     "shell.execute_reply.started": "2023-07-16T08:15:10.292637Z"
    }
   },
   "outputs": [
    {
     "name": "stdout",
     "output_type": "stream",
     "text": [
      "не смог определить координаты у 6 отелей\n",
      "['Maison Albar Hotel Paris Op ra Diamond', 'City Hotel Deutschmeister', 'Derag Livinghotel Kaiser Franz Joseph Vienna', 'Hotel Pension Baron am Schottentor', 'Mercure Paris Gare Montparnasse', 'Fleming s Selection Hotel Wien City']\n"
     ]
    }
   ],
   "source": [
    "from geopy import GoogleV3\n",
    "from geopy.geocoders import Nominatim #Подключаем библиотеку\n",
    "geolocator = Nominatim(user_agent=\"Tester\") #Указываем название приложения (так нужно, да)\n",
    "c = 0\n",
    "lst_emp = list()\n",
    "list_isnull_new = list_isnull.copy()\n",
    "dict_lat = {}# словарь с широтой\n",
    "dict_lng = {}# словарь с долготой\n",
    "\n",
    "for i in list_isnull:\n",
    "\n",
    "    location = geolocator.geocode(i)\n",
    "    if location is not None:\n",
    "     # заполняем все пропуски в координатах\n",
    "        dict_lat[i] = location.latitude\n",
    "        dict_lng[i] = location.longitude\n",
    "        # создадим список отелей без координат\n",
    "        list_isnull_new == list_isnull_new.remove(i)\n",
    "    else:\n",
    "        c = c + 1\n",
    "        \n",
    "print('не смог определить координаты у {} отелей'.format(c))    \n",
    "print(list_isnull_new)"
   ]
  },
  {
   "cell_type": "code",
   "execution_count": 162,
   "metadata": {
    "execution": {
     "iopub.execute_input": "2023-07-16T08:15:27.212172Z",
     "iopub.status.busy": "2023-07-16T08:15:27.211736Z",
     "iopub.status.idle": "2023-07-16T08:15:27.219728Z",
     "shell.execute_reply": "2023-07-16T08:15:27.218512Z",
     "shell.execute_reply.started": "2023-07-16T08:15:27.212140Z"
    }
   },
   "outputs": [],
   "source": [
    "#Для тех отелей, где еще остались пропуск, заполним координаты в ручную\n",
    "dict_lat['Mercure Paris Gare Montparnasse'] = 48.8375841\n",
    "dict_lng['Mercure Paris Gare Montparnasse'] = 2.318716\n",
    "dict_lat['Derag Livinghotel Kaiser Franz Joseph Vienna'] = 48.24602040535342\n",
    "dict_lng['Derag Livinghotel Kaiser Franz Joseph Vienna'] = 16.341979665380066\n",
    "dict_lat['City Hotel Deutschmeister'] = 48.220959067776576\n",
    "dict_lng['City Hotel Deutschmeister'] = 16.366654496291574\n",
    "dict_lat['Fleming s Selection Hotel Wien City'] = 48.209464156084664\n",
    "dict_lng['Fleming s Selection Hotel Wien City'] = 16.353436330884335\n",
    "dict_lat['Hotel Pension Baron am Schottentor'] = 48.2169642294284\n",
    "dict_lng['Hotel Pension Baron am Schottentor'] = 16.36044753578845\n",
    "dict_lat['Maison Albar Hotel Paris Op ra Diamond'] = 48.87539377471044\n",
    "dict_lng['Maison Albar Hotel Paris Op ra Diamond'] = 2.323428222173738"
   ]
  },
  {
   "cell_type": "code",
   "execution_count": 163,
   "metadata": {
    "execution": {
     "iopub.execute_input": "2023-07-16T08:15:37.929346Z",
     "iopub.status.busy": "2023-07-16T08:15:37.928799Z",
     "iopub.status.idle": "2023-07-16T08:15:44.938949Z",
     "shell.execute_reply": "2023-07-16T08:15:44.937820Z",
     "shell.execute_reply.started": "2023-07-16T08:15:37.929306Z"
    }
   },
   "outputs": [
    {
     "name": "stderr",
     "output_type": "stream",
     "text": [
      "/tmp/ipykernel_32/3870895649.py:5: SettingWithCopyWarning: \n",
      "A value is trying to be set on a copy of a slice from a DataFrame\n",
      "\n",
      "See the caveats in the documentation: https://pandas.pydata.org/pandas-docs/stable/user_guide/indexing.html#returning-a-view-versus-a-copy\n",
      "  hotels['lat'][i] = dict_lat[hotels['hotel_name'][i]]\n",
      "/tmp/ipykernel_32/3870895649.py:6: SettingWithCopyWarning: \n",
      "A value is trying to be set on a copy of a slice from a DataFrame\n",
      "\n",
      "See the caveats in the documentation: https://pandas.pydata.org/pandas-docs/stable/user_guide/indexing.html#returning-a-view-versus-a-copy\n",
      "  hotels['lng'][i] = dict_lng[hotels['hotel_name'][i]]\n"
     ]
    }
   ],
   "source": [
    "# Теперь из словаря заполняем координаты\n",
    "for i in range(len(hotels['lat'])):\n",
    "\n",
    "    if pd.isnull(hotels['lat'][i]) is True:\n",
    "        hotels['lat'][i] = dict_lat[hotels['hotel_name'][i]]\n",
    "        hotels['lng'][i] = dict_lng[hotels['hotel_name'][i]] "
   ]
  },
  {
   "cell_type": "code",
   "execution_count": 164,
   "metadata": {
    "execution": {
     "iopub.execute_input": "2023-07-16T08:15:49.435094Z",
     "iopub.status.busy": "2023-07-16T08:15:49.434638Z",
     "iopub.status.idle": "2023-07-16T08:15:50.219448Z",
     "shell.execute_reply": "2023-07-16T08:15:50.217999Z",
     "shell.execute_reply.started": "2023-07-16T08:15:49.435055Z"
    }
   },
   "outputs": [
    {
     "name": "stdout",
     "output_type": "stream",
     "text": [
      "<class 'pandas.core.frame.DataFrame'>\n",
      "RangeIndex: 515738 entries, 0 to 515737\n",
      "Data columns (total 18 columns):\n",
      " #   Column                                      Non-Null Count   Dtype  \n",
      "---  ------                                      --------------   -----  \n",
      " 0   hotel_address                               515738 non-null  object \n",
      " 1   additional_number_of_scoring                515738 non-null  int64  \n",
      " 2   review_date                                 515738 non-null  object \n",
      " 3   average_score                               515738 non-null  float64\n",
      " 4   hotel_name                                  515738 non-null  object \n",
      " 5   reviewer_nationality                        515738 non-null  object \n",
      " 6   negative_review                             515738 non-null  object \n",
      " 7   review_total_negative_word_counts           515738 non-null  int64  \n",
      " 8   total_number_of_reviews                     515738 non-null  int64  \n",
      " 9   positive_review                             515738 non-null  object \n",
      " 10  review_total_positive_word_counts           515738 non-null  int64  \n",
      " 11  total_number_of_reviews_reviewer_has_given  515738 non-null  int64  \n",
      " 12  tags                                        515738 non-null  object \n",
      " 13  days_since_review                           515738 non-null  object \n",
      " 14  lat                                         515738 non-null  float64\n",
      " 15  lng                                         515738 non-null  float64\n",
      " 16  sample                                      515738 non-null  int64  \n",
      " 17  reviewer_score                              515738 non-null  float64\n",
      "dtypes: float64(4), int64(6), object(8)\n",
      "memory usage: 70.8+ MB\n"
     ]
    }
   ],
   "source": [
    "hotels.info()"
   ]
  },
  {
   "cell_type": "markdown",
   "metadata": {},
   "source": [
    "Как видим, пропусков не осталось"
   ]
  },
  {
   "cell_type": "markdown",
   "metadata": {},
   "source": [
    "**hotel_address**"
   ]
  },
  {
   "cell_type": "code",
   "execution_count": 165,
   "metadata": {
    "execution": {
     "iopub.execute_input": "2023-07-16T08:16:10.806587Z",
     "iopub.status.busy": "2023-07-16T08:16:10.806092Z",
     "iopub.status.idle": "2023-07-16T08:16:10.814780Z",
     "shell.execute_reply": "2023-07-16T08:16:10.813161Z",
     "shell.execute_reply.started": "2023-07-16T08:16:10.806549Z"
    }
   },
   "outputs": [
    {
     "name": "stdout",
     "output_type": "stream",
     "text": [
      "Coram Street Camden London WC1N 1HT United Kingdom\n",
      "Oudeschans 75 Amsterdam City Center 1011 KW Amsterdam Netherlands\n",
      "3 Rue Verniquet 17th arr 75017 Paris France\n"
     ]
    }
   ],
   "source": [
    "# Выведем несколько значений адреса отеля\n",
    "print(hotels['hotel_address'][5])\n",
    "print(hotels['hotel_address'][15])\n",
    "print(hotels['hotel_address'][25])"
   ]
  },
  {
   "cell_type": "markdown",
   "metadata": {},
   "source": [
    "Видим, что из адерса можно определить страну и город отеля, создадим новые признак"
   ]
  },
  {
   "cell_type": "code",
   "execution_count": 166,
   "metadata": {
    "execution": {
     "iopub.execute_input": "2023-07-16T08:16:16.731224Z",
     "iopub.status.busy": "2023-07-16T08:16:16.730698Z",
     "iopub.status.idle": "2023-07-16T08:16:17.262427Z",
     "shell.execute_reply": "2023-07-16T08:16:17.261320Z",
     "shell.execute_reply.started": "2023-07-16T08:16:16.731184Z"
    }
   },
   "outputs": [],
   "source": [
    "# создаем признак страна отеля\n",
    "hotels['hotel_country'] = hotels['hotel_address'].apply(lambda x: x.split(' ')[-1])"
   ]
  },
  {
   "cell_type": "code",
   "execution_count": 167,
   "metadata": {
    "execution": {
     "iopub.execute_input": "2023-07-16T08:16:23.422478Z",
     "iopub.status.busy": "2023-07-16T08:16:23.421588Z",
     "iopub.status.idle": "2023-07-16T08:16:23.487463Z",
     "shell.execute_reply": "2023-07-16T08:16:23.486136Z",
     "shell.execute_reply.started": "2023-07-16T08:16:23.422416Z"
    }
   },
   "outputs": [
    {
     "data": {
      "text/plain": [
       "Kingdom        262301\n",
       "Spain           60149\n",
       "France          59928\n",
       "Netherlands     57214\n",
       "Austria         38939\n",
       "Italy           37207\n",
       "Name: hotel_country, dtype: int64"
      ]
     },
     "execution_count": 167,
     "metadata": {},
     "output_type": "execute_result"
    }
   ],
   "source": [
    "hotels['hotel_country'].value_counts()"
   ]
  },
  {
   "cell_type": "code",
   "execution_count": 168,
   "metadata": {
    "execution": {
     "iopub.execute_input": "2023-07-16T08:16:30.482074Z",
     "iopub.status.busy": "2023-07-16T08:16:30.481602Z",
     "iopub.status.idle": "2023-07-16T08:16:31.228304Z",
     "shell.execute_reply": "2023-07-16T08:16:31.227121Z",
     "shell.execute_reply.started": "2023-07-16T08:16:30.482032Z"
    }
   },
   "outputs": [],
   "source": [
    "# создаем признак город отеля (для великобритании город будем -5, остальные -2)\n",
    "hotels['hotel_city'] = hotels['hotel_address'].apply(lambda x: x.split(' ')[-5] if x.split(' ')[-1] == 'Kingdom' else x.split(' ')[-2])"
   ]
  },
  {
   "cell_type": "code",
   "execution_count": 23,
   "metadata": {
    "execution": {
     "iopub.execute_input": "2023-07-16T03:18:22.988663Z",
     "iopub.status.busy": "2023-07-16T03:18:22.988286Z",
     "iopub.status.idle": "2023-07-16T03:18:23.051863Z",
     "shell.execute_reply": "2023-07-16T03:18:23.050805Z",
     "shell.execute_reply.started": "2023-07-16T03:18:22.988635Z"
    }
   },
   "outputs": [
    {
     "data": {
      "text/plain": [
       "London       262301\n",
       "Barcelona     60149\n",
       "Paris         59928\n",
       "Amsterdam     57214\n",
       "Vienna        38939\n",
       "Milan         37207\n",
       "Name: hotel_city, dtype: int64"
      ]
     },
     "execution_count": 23,
     "metadata": {},
     "output_type": "execute_result"
    }
   ],
   "source": [
    "hotels['hotel_city'].value_counts()"
   ]
  },
  {
   "cell_type": "markdown",
   "metadata": {},
   "source": [
    "из новых признаков видим, что одна страна = один город, так что скорее признаки дублируют друг друга (будет корреляция 1), но если появится новый город, то признак будет полезен"
   ]
  },
  {
   "cell_type": "code",
   "execution_count": 169,
   "metadata": {
    "execution": {
     "iopub.execute_input": "2023-07-16T08:17:29.292842Z",
     "iopub.status.busy": "2023-07-16T08:17:29.292368Z",
     "iopub.status.idle": "2023-07-16T08:17:30.699086Z",
     "shell.execute_reply": "2023-07-16T08:17:30.697794Z",
     "shell.execute_reply.started": "2023-07-16T08:17:29.292803Z"
    }
   },
   "outputs": [
    {
     "name": "stdout",
     "output_type": "stream",
     "text": [
      "<class 'pandas.core.frame.DataFrame'>\n",
      "RangeIndex: 515738 entries, 0 to 515737\n",
      "Data columns (total 30 columns):\n",
      " #   Column                                      Non-Null Count   Dtype  \n",
      "---  ------                                      --------------   -----  \n",
      " 0   hotel_address                               515738 non-null  object \n",
      " 1   additional_number_of_scoring                515738 non-null  int64  \n",
      " 2   review_date                                 515738 non-null  object \n",
      " 3   average_score                               515738 non-null  float64\n",
      " 4   hotel_name                                  515738 non-null  object \n",
      " 5   reviewer_nationality                        515738 non-null  object \n",
      " 6   negative_review                             515738 non-null  object \n",
      " 7   review_total_negative_word_counts           515738 non-null  int64  \n",
      " 8   total_number_of_reviews                     515738 non-null  int64  \n",
      " 9   positive_review                             515738 non-null  object \n",
      " 10  review_total_positive_word_counts           515738 non-null  int64  \n",
      " 11  total_number_of_reviews_reviewer_has_given  515738 non-null  int64  \n",
      " 12  tags                                        515738 non-null  object \n",
      " 13  days_since_review                           515738 non-null  object \n",
      " 14  lat                                         515738 non-null  float64\n",
      " 15  lng                                         515738 non-null  float64\n",
      " 16  sample                                      515738 non-null  int64  \n",
      " 17  reviewer_score                              515738 non-null  float64\n",
      " 18  hotel_country_Austria                       515738 non-null  uint8  \n",
      " 19  hotel_country_France                        515738 non-null  uint8  \n",
      " 20  hotel_country_Italy                         515738 non-null  uint8  \n",
      " 21  hotel_country_Kingdom                       515738 non-null  uint8  \n",
      " 22  hotel_country_Netherlands                   515738 non-null  uint8  \n",
      " 23  hotel_country_Spain                         515738 non-null  uint8  \n",
      " 24  hotel_city_Amsterdam                        515738 non-null  uint8  \n",
      " 25  hotel_city_Barcelona                        515738 non-null  uint8  \n",
      " 26  hotel_city_London                           515738 non-null  uint8  \n",
      " 27  hotel_city_Milan                            515738 non-null  uint8  \n",
      " 28  hotel_city_Paris                            515738 non-null  uint8  \n",
      " 29  hotel_city_Vienna                           515738 non-null  uint8  \n",
      "dtypes: float64(4), int64(6), object(8), uint8(12)\n",
      "memory usage: 76.7+ MB\n"
     ]
    }
   ],
   "source": [
    "# кодируем признаки  \n",
    "hotels = pd.get_dummies(hotels, columns=['hotel_country', 'hotel_city'])\n",
    "hotels.info()"
   ]
  },
  {
   "cell_type": "markdown",
   "metadata": {},
   "source": [
    "**reviewer_nationality**"
   ]
  },
  {
   "cell_type": "code",
   "execution_count": 170,
   "metadata": {
    "execution": {
     "iopub.execute_input": "2023-07-16T08:17:36.697524Z",
     "iopub.status.busy": "2023-07-16T08:17:36.697108Z",
     "iopub.status.idle": "2023-07-16T08:17:36.754228Z",
     "shell.execute_reply": "2023-07-16T08:17:36.753344Z",
     "shell.execute_reply.started": "2023-07-16T08:17:36.697490Z"
    }
   },
   "outputs": [
    {
     "data": {
      "text/plain": [
       " United Kingdom               245246\n",
       " United States of America      35437\n",
       " Australia                     21686\n",
       " Ireland                       14827\n",
       " United Arab Emirates          10235\n",
       "                               ...  \n",
       " Comoros                           1\n",
       " Anguilla                          1\n",
       " Tuvalu                            1\n",
       " Cape Verde                        1\n",
       " Palau                             1\n",
       "Name: reviewer_nationality, Length: 227, dtype: int64"
      ]
     },
     "execution_count": 170,
     "metadata": {},
     "output_type": "execute_result"
    }
   ],
   "source": [
    "hotels['reviewer_nationality'].value_counts()"
   ]
  },
  {
   "cell_type": "code",
   "execution_count": 171,
   "metadata": {
    "execution": {
     "iopub.execute_input": "2023-07-16T08:17:40.595379Z",
     "iopub.status.busy": "2023-07-16T08:17:40.594992Z",
     "iopub.status.idle": "2023-07-16T08:17:41.354200Z",
     "shell.execute_reply": "2023-07-16T08:17:41.353031Z",
     "shell.execute_reply.started": "2023-07-16T08:17:40.595347Z"
    }
   },
   "outputs": [],
   "source": [
    "#кодируем признак национальность, так как их много, то испльзуем BinaryEncoder\n",
    "import category_encoders as ce\n",
    "\n",
    "bin_encoder = ce.BinaryEncoder(cols=['reviewer_nationality']) # указываем столбец для кодирования\n",
    "type_bin = bin_encoder.fit_transform(hotels['reviewer_nationality'])\n",
    "hotels = pd.concat([hotels, type_bin], axis=1)"
   ]
  },
  {
   "cell_type": "code",
   "execution_count": 172,
   "metadata": {
    "execution": {
     "iopub.execute_input": "2023-07-16T08:17:45.935049Z",
     "iopub.status.busy": "2023-07-16T08:17:45.934246Z",
     "iopub.status.idle": "2023-07-16T08:17:46.614770Z",
     "shell.execute_reply": "2023-07-16T08:17:46.613880Z",
     "shell.execute_reply.started": "2023-07-16T08:17:45.934997Z"
    }
   },
   "outputs": [
    {
     "name": "stdout",
     "output_type": "stream",
     "text": [
      "<class 'pandas.core.frame.DataFrame'>\n",
      "RangeIndex: 515738 entries, 0 to 515737\n",
      "Data columns (total 38 columns):\n",
      " #   Column                                      Non-Null Count   Dtype  \n",
      "---  ------                                      --------------   -----  \n",
      " 0   hotel_address                               515738 non-null  object \n",
      " 1   additional_number_of_scoring                515738 non-null  int64  \n",
      " 2   review_date                                 515738 non-null  object \n",
      " 3   average_score                               515738 non-null  float64\n",
      " 4   hotel_name                                  515738 non-null  object \n",
      " 5   reviewer_nationality                        515738 non-null  object \n",
      " 6   negative_review                             515738 non-null  object \n",
      " 7   review_total_negative_word_counts           515738 non-null  int64  \n",
      " 8   total_number_of_reviews                     515738 non-null  int64  \n",
      " 9   positive_review                             515738 non-null  object \n",
      " 10  review_total_positive_word_counts           515738 non-null  int64  \n",
      " 11  total_number_of_reviews_reviewer_has_given  515738 non-null  int64  \n",
      " 12  tags                                        515738 non-null  object \n",
      " 13  days_since_review                           515738 non-null  object \n",
      " 14  lat                                         515738 non-null  float64\n",
      " 15  lng                                         515738 non-null  float64\n",
      " 16  sample                                      515738 non-null  int64  \n",
      " 17  reviewer_score                              515738 non-null  float64\n",
      " 18  hotel_country_Austria                       515738 non-null  uint8  \n",
      " 19  hotel_country_France                        515738 non-null  uint8  \n",
      " 20  hotel_country_Italy                         515738 non-null  uint8  \n",
      " 21  hotel_country_Kingdom                       515738 non-null  uint8  \n",
      " 22  hotel_country_Netherlands                   515738 non-null  uint8  \n",
      " 23  hotel_country_Spain                         515738 non-null  uint8  \n",
      " 24  hotel_city_Amsterdam                        515738 non-null  uint8  \n",
      " 25  hotel_city_Barcelona                        515738 non-null  uint8  \n",
      " 26  hotel_city_London                           515738 non-null  uint8  \n",
      " 27  hotel_city_Milan                            515738 non-null  uint8  \n",
      " 28  hotel_city_Paris                            515738 non-null  uint8  \n",
      " 29  hotel_city_Vienna                           515738 non-null  uint8  \n",
      " 30  reviewer_nationality_0                      515738 non-null  int64  \n",
      " 31  reviewer_nationality_1                      515738 non-null  int64  \n",
      " 32  reviewer_nationality_2                      515738 non-null  int64  \n",
      " 33  reviewer_nationality_3                      515738 non-null  int64  \n",
      " 34  reviewer_nationality_4                      515738 non-null  int64  \n",
      " 35  reviewer_nationality_5                      515738 non-null  int64  \n",
      " 36  reviewer_nationality_6                      515738 non-null  int64  \n",
      " 37  reviewer_nationality_7                      515738 non-null  int64  \n",
      "dtypes: float64(4), int64(14), object(8), uint8(12)\n",
      "memory usage: 108.2+ MB\n"
     ]
    }
   ],
   "source": [
    "hotels.info()"
   ]
  },
  {
   "cell_type": "markdown",
   "metadata": {},
   "source": [
    "**review_date**"
   ]
  },
  {
   "cell_type": "code",
   "execution_count": 174,
   "metadata": {},
   "outputs": [],
   "source": [
    "# работаем с датой отзыва\n",
    "# Переведем в тип дата и создадим новые признаки (день и день недели думалю не стоит выделать)\n",
    "hotels['review_date'] = pd.to_datetime(hotels['review_date'])\n",
    "hotels['review_year'] = hotels['review_date'].dt.year\n",
    "hotels['review_quater'] = hotels['review_date'].dt.quarter\n",
    "hotels['review_month'] = hotels['review_date'].dt.month"
   ]
  },
  {
   "cell_type": "markdown",
   "metadata": {},
   "source": [
    "**Признак days_since_review**"
   ]
  },
  {
   "cell_type": "code",
   "execution_count": 175,
   "metadata": {
    "execution": {
     "iopub.execute_input": "2023-07-16T08:20:53.100264Z",
     "iopub.status.busy": "2023-07-16T08:20:53.099344Z",
     "iopub.status.idle": "2023-07-16T08:20:53.111639Z",
     "shell.execute_reply": "2023-07-16T08:20:53.110075Z",
     "shell.execute_reply.started": "2023-07-16T08:20:53.100210Z"
    }
   },
   "outputs": [
    {
     "data": {
      "text/plain": [
       "0         13 days\n",
       "1         234 day\n",
       "2         616 day\n",
       "3         656 day\n",
       "4         444 day\n",
       "           ...   \n",
       "515733    106 day\n",
       "515734    171 day\n",
       "515735    543 day\n",
       "515736    74 days\n",
       "515737    363 day\n",
       "Name: days_since_review, Length: 515738, dtype: object"
      ]
     },
     "execution_count": 175,
     "metadata": {},
     "output_type": "execute_result"
    }
   ],
   "source": [
    "hotels['days_since_review']"
   ]
  },
  {
   "cell_type": "code",
   "execution_count": 176,
   "metadata": {
    "execution": {
     "iopub.execute_input": "2023-07-16T08:20:57.650589Z",
     "iopub.status.busy": "2023-07-16T08:20:57.649607Z",
     "iopub.status.idle": "2023-07-16T08:20:58.024968Z",
     "shell.execute_reply": "2023-07-16T08:20:58.023934Z",
     "shell.execute_reply.started": "2023-07-16T08:20:57.650551Z"
    }
   },
   "outputs": [],
   "source": [
    "# Переведем признак в числовой - признак непонятный, не кажется, что он может влият на оценку\n",
    "hotels['days_since_review'] = hotels['days_since_review'].apply(lambda x: int(x.split(' ')[0]))"
   ]
  },
  {
   "cell_type": "markdown",
   "metadata": {},
   "source": [
    "**tags**"
   ]
  },
  {
   "cell_type": "code",
   "execution_count": 177,
   "metadata": {
    "execution": {
     "iopub.execute_input": "2023-07-16T08:21:02.936708Z",
     "iopub.status.busy": "2023-07-16T08:21:02.935542Z",
     "iopub.status.idle": "2023-07-16T08:21:02.943542Z",
     "shell.execute_reply": "2023-07-16T08:21:02.942530Z",
     "shell.execute_reply.started": "2023-07-16T08:21:02.936660Z"
    }
   },
   "outputs": [
    {
     "name": "stdout",
     "output_type": "stream",
     "text": [
      "[' Business trip ', ' Solo traveler ', ' Standard Double or Twin Room ', ' Stayed 1 night ']\n",
      "[' Leisure trip ', ' Couple ', ' Classic Room ', ' Stayed 5 nights ']\n",
      "[' Business trip ', ' Solo traveler ', ' Double Guest Room ', ' Stayed 1 night ', ' Submitted from a mobile device ']\n"
     ]
    }
   ],
   "source": [
    "# посмотрим несколько значений tags\n",
    "print(hotels['tags'][5])\n",
    "print(hotels['tags'][25])\n",
    "print(hotels['tags'][225])"
   ]
  },
  {
   "cell_type": "markdown",
   "metadata": {},
   "source": [
    "видим, что есть тэг, количество ночей, сделаем отдельных признак"
   ]
  },
  {
   "cell_type": "code",
   "execution_count": 178,
   "metadata": {
    "execution": {
     "iopub.execute_input": "2023-07-16T08:21:06.881750Z",
     "iopub.status.busy": "2023-07-16T08:21:06.880859Z",
     "iopub.status.idle": "2023-07-16T08:21:06.889299Z",
     "shell.execute_reply": "2023-07-16T08:21:06.888168Z",
     "shell.execute_reply.started": "2023-07-16T08:21:06.881703Z"
    }
   },
   "outputs": [],
   "source": [
    "# функция для посчета количества ночей в отелей (из 'tags')\n",
    "def fun_count_night(st):\n",
    "    for w in st[1:-1].split(','):\n",
    "        w = w.replace(\" ' \", '')\n",
    "        w = w.replace(\"' \", '')\n",
    "        w = w.replace(\" '\", '')\n",
    "        if 'Stayed' in w:\n",
    "            return int(w.split(' ')[1])"
   ]
  },
  {
   "cell_type": "code",
   "execution_count": 180,
   "metadata": {
    "execution": {
     "iopub.execute_input": "2023-07-16T08:22:19.394121Z",
     "iopub.status.busy": "2023-07-16T08:22:19.393692Z",
     "iopub.status.idle": "2023-07-16T08:22:20.928369Z",
     "shell.execute_reply": "2023-07-16T08:22:20.926455Z",
     "shell.execute_reply.started": "2023-07-16T08:22:19.394089Z"
    }
   },
   "outputs": [],
   "source": [
    "# создаем признак количество ночей\n",
    "hotels['num_nights'] = hotels['tags'].apply(fun_count_night)"
   ]
  },
  {
   "cell_type": "code",
   "execution_count": 181,
   "metadata": {
    "execution": {
     "iopub.execute_input": "2023-07-16T08:22:33.159143Z",
     "iopub.status.busy": "2023-07-16T08:22:33.158717Z",
     "iopub.status.idle": "2023-07-16T08:22:33.174891Z",
     "shell.execute_reply": "2023-07-16T08:22:33.173363Z",
     "shell.execute_reply.started": "2023-07-16T08:22:33.159110Z"
    }
   },
   "outputs": [
    {
     "data": {
      "text/plain": [
       "False    515546\n",
       "True        192\n",
       "Name: num_nights, dtype: int64"
      ]
     },
     "execution_count": 181,
     "metadata": {},
     "output_type": "execute_result"
    }
   ],
   "source": [
    "#проверим все ли заполнилось, \n",
    "hotels['num_nights'].isna().value_counts()"
   ]
  },
  {
   "cell_type": "code",
   "execution_count": 182,
   "metadata": {
    "execution": {
     "iopub.execute_input": "2023-07-16T08:22:36.884304Z",
     "iopub.status.busy": "2023-07-16T08:22:36.883912Z",
     "iopub.status.idle": "2023-07-16T08:22:36.897229Z",
     "shell.execute_reply": "2023-07-16T08:22:36.895861Z",
     "shell.execute_reply.started": "2023-07-16T08:22:36.884276Z"
    }
   },
   "outputs": [],
   "source": [
    "#видим пустые ячейки, заполним их средним значением\n",
    "hotels['num_nights']  = hotels['num_nights'].fillna(round(hotels['num_nights'].mean()))"
   ]
  },
  {
   "cell_type": "markdown",
   "metadata": {},
   "source": [
    "Далее работаем с 'tags'"
   ]
  },
  {
   "cell_type": "code",
   "execution_count": 183,
   "metadata": {
    "execution": {
     "iopub.execute_input": "2023-07-16T08:22:58.748854Z",
     "iopub.status.busy": "2023-07-16T08:22:58.748131Z",
     "iopub.status.idle": "2023-07-16T08:22:58.756679Z",
     "shell.execute_reply": "2023-07-16T08:22:58.755230Z",
     "shell.execute_reply.started": "2023-07-16T08:22:58.748818Z"
    }
   },
   "outputs": [],
   "source": [
    "# из примеров выше отметим, что в tags много лишних символов, уберем их\n",
    "# Функция для перевода tags в очищенный список\n",
    "\n",
    "def tags_tolist(x):\n",
    "  #  print(x)\n",
    "    lst_tags = []\n",
    "    for w in x[1:-1].split(','):\n",
    "        \n",
    "        w = w.replace(\" ' \", '')\n",
    "        w = w.replace(\"' \", '')\n",
    "        w = w.replace(\" '\", '')\n",
    "        #print(w)\n",
    "        lst_tags == lst_tags.append(w)\n",
    "    return lst_tags"
   ]
  },
  {
   "cell_type": "code",
   "execution_count": 184,
   "metadata": {
    "execution": {
     "iopub.execute_input": "2023-07-16T08:23:03.931830Z",
     "iopub.status.busy": "2023-07-16T08:23:03.931387Z",
     "iopub.status.idle": "2023-07-16T08:23:07.094818Z",
     "shell.execute_reply": "2023-07-16T08:23:07.093649Z",
     "shell.execute_reply.started": "2023-07-16T08:23:03.931796Z"
    }
   },
   "outputs": [],
   "source": [
    "hotels['tags'] = hotels['tags'].apply(tags_tolist)"
   ]
  },
  {
   "cell_type": "code",
   "execution_count": 185,
   "metadata": {
    "execution": {
     "iopub.execute_input": "2023-07-16T08:23:09.399826Z",
     "iopub.status.busy": "2023-07-16T08:23:09.399396Z",
     "iopub.status.idle": "2023-07-16T08:23:09.894360Z",
     "shell.execute_reply": "2023-07-16T08:23:09.893064Z",
     "shell.execute_reply.started": "2023-07-16T08:23:09.399793Z"
    }
   },
   "outputs": [
    {
     "name": "stdout",
     "output_type": "stream",
     "text": [
      "количество уникальных тэгов:  2428\n"
     ]
    }
   ],
   "source": [
    "print('количество уникальных тэгов: ',hotels['tags'].explode().nunique())"
   ]
  },
  {
   "cell_type": "code",
   "execution_count": 186,
   "metadata": {
    "execution": {
     "iopub.execute_input": "2023-07-16T08:23:25.014706Z",
     "iopub.status.busy": "2023-07-16T08:23:25.014282Z",
     "iopub.status.idle": "2023-07-16T08:23:25.490807Z",
     "shell.execute_reply": "2023-07-16T08:23:25.489739Z",
     "shell.execute_reply.started": "2023-07-16T08:23:25.014675Z"
    }
   },
   "outputs": [
    {
     "data": {
      "text/plain": [
       "Leisure trip                      417778\n",
       "Submitted from a mobile device    307640\n",
       "Couple                            252294\n",
       "Stayed 1 night                    193645\n",
       "Stayed 2 nights                   133937\n",
       "Solo traveler                     108545\n",
       "Stayed 3 nights                    95821\n",
       "Business trip                      82939\n",
       "Group                              65392\n",
       "Family with young children         61015\n",
       "Stayed 4 nights                    47817\n",
       "Double Room                        35207\n",
       "Standard Double Room               32248\n",
       "Superior Double Room               31393\n",
       "Family with older children         26349\n",
       "Deluxe Double Room                 24823\n",
       "Double or Twin Room                22393\n",
       "Stayed 5 nights                    20845\n",
       "Standard Double or Twin Room       17483\n",
       "Classic Double Room                16989\n",
       "Name: tags, dtype: int64"
      ]
     },
     "execution_count": 186,
     "metadata": {},
     "output_type": "execute_result"
    }
   ],
   "source": [
    "# Выведем 20 популярных тэгов\n",
    "hotels['tags'].explode().value_counts().head(20)"
   ]
  },
  {
   "cell_type": "code",
   "execution_count": 187,
   "metadata": {
    "execution": {
     "iopub.execute_input": "2023-07-16T08:23:33.039623Z",
     "iopub.status.busy": "2023-07-16T08:23:33.038900Z",
     "iopub.status.idle": "2023-07-16T08:23:33.454312Z",
     "shell.execute_reply": "2023-07-16T08:23:33.453387Z",
     "shell.execute_reply.started": "2023-07-16T08:23:33.039587Z"
    }
   },
   "outputs": [
    {
     "data": {
      "text/plain": [
       "['Leisure trip',\n",
       " 'Submitted from a mobile device',\n",
       " 'Couple',\n",
       " 'Stayed 1 night',\n",
       " 'Stayed 2 nights',\n",
       " 'Solo traveler',\n",
       " 'Stayed 3 nights',\n",
       " 'Business trip',\n",
       " 'Group',\n",
       " 'Family with young children',\n",
       " 'Stayed 4 nights',\n",
       " 'Double Room',\n",
       " 'Standard Double Room',\n",
       " 'Superior Double Room',\n",
       " 'Family with older children',\n",
       " 'Deluxe Double Room',\n",
       " 'Double or Twin Room',\n",
       " 'Stayed 5 nights',\n",
       " 'Standard Double or Twin Room',\n",
       " 'Classic Double Room',\n",
       " 'Superior Double or Twin Room',\n",
       " '2 rooms',\n",
       " 'Stayed 6 nights',\n",
       " 'Standard Twin Room',\n",
       " 'Single Room']"
      ]
     },
     "metadata": {},
     "output_type": "display_data"
    }
   ],
   "source": [
    "# видим, что несколько тэгов обозначают количество ночей, данный признак уже сделали\n",
    "\n",
    "# создадим список популярных тегов\n",
    "lst_tags_pop = hotels['tags'].explode().value_counts().head(25).index.tolist()\n",
    "display(lst_tags_pop)"
   ]
  },
  {
   "cell_type": "code",
   "execution_count": 188,
   "metadata": {
    "execution": {
     "iopub.execute_input": "2023-07-16T08:23:40.838920Z",
     "iopub.status.busy": "2023-07-16T08:23:40.838163Z",
     "iopub.status.idle": "2023-07-16T08:23:40.844516Z",
     "shell.execute_reply": "2023-07-16T08:23:40.843647Z",
     "shell.execute_reply.started": "2023-07-16T08:23:40.838872Z"
    }
   },
   "outputs": [],
   "source": [
    "# уберем теги с количеством ночей\n",
    "lst_tags_pop2 = []\n",
    "for i in lst_tags_pop:\n",
    "    if 'Stayed' not in i:\n",
    "        lst_tags_pop2 == lst_tags_pop2.append(i)"
   ]
  },
  {
   "cell_type": "code",
   "execution_count": 189,
   "metadata": {
    "execution": {
     "iopub.execute_input": "2023-07-16T08:23:45.800705Z",
     "iopub.status.busy": "2023-07-16T08:23:45.800271Z",
     "iopub.status.idle": "2023-07-16T08:23:45.806779Z",
     "shell.execute_reply": "2023-07-16T08:23:45.805547Z",
     "shell.execute_reply.started": "2023-07-16T08:23:45.800669Z"
    }
   },
   "outputs": [],
   "source": [
    "# фунция создает новые признаки из списка популярных тегов\n",
    "def add_column(df, lst):\n",
    "    for el in lst:\n",
    "        col_name = \"tags_\" + el.lower()\n",
    "        df[col_name] = df['tags'].apply(lambda x: 1 if el in x else 0)\n",
    "    return df"
   ]
  },
  {
   "cell_type": "code",
   "execution_count": 190,
   "metadata": {
    "execution": {
     "iopub.execute_input": "2023-07-16T08:23:50.992624Z",
     "iopub.status.busy": "2023-07-16T08:23:50.991588Z",
     "iopub.status.idle": "2023-07-16T08:23:56.635963Z",
     "shell.execute_reply": "2023-07-16T08:23:56.634787Z",
     "shell.execute_reply.started": "2023-07-16T08:23:50.992580Z"
    }
   },
   "outputs": [
    {
     "name": "stdout",
     "output_type": "stream",
     "text": [
      "<class 'pandas.core.frame.DataFrame'>\n",
      "RangeIndex: 515738 entries, 0 to 515737\n",
      "Data columns (total 61 columns):\n",
      " #   Column                                      Non-Null Count   Dtype         \n",
      "---  ------                                      --------------   -----         \n",
      " 0   hotel_address                               515738 non-null  object        \n",
      " 1   additional_number_of_scoring                515738 non-null  int64         \n",
      " 2   review_date                                 515738 non-null  datetime64[ns]\n",
      " 3   average_score                               515738 non-null  float64       \n",
      " 4   hotel_name                                  515738 non-null  object        \n",
      " 5   reviewer_nationality                        515738 non-null  object        \n",
      " 6   negative_review                             515738 non-null  object        \n",
      " 7   review_total_negative_word_counts           515738 non-null  int64         \n",
      " 8   total_number_of_reviews                     515738 non-null  int64         \n",
      " 9   positive_review                             515738 non-null  object        \n",
      " 10  review_total_positive_word_counts           515738 non-null  int64         \n",
      " 11  total_number_of_reviews_reviewer_has_given  515738 non-null  int64         \n",
      " 12  tags                                        515738 non-null  object        \n",
      " 13  days_since_review                           515738 non-null  int64         \n",
      " 14  lat                                         515738 non-null  float64       \n",
      " 15  lng                                         515738 non-null  float64       \n",
      " 16  sample                                      515738 non-null  int64         \n",
      " 17  reviewer_score                              515738 non-null  float64       \n",
      " 18  hotel_country_Austria                       515738 non-null  uint8         \n",
      " 19  hotel_country_France                        515738 non-null  uint8         \n",
      " 20  hotel_country_Italy                         515738 non-null  uint8         \n",
      " 21  hotel_country_Kingdom                       515738 non-null  uint8         \n",
      " 22  hotel_country_Netherlands                   515738 non-null  uint8         \n",
      " 23  hotel_country_Spain                         515738 non-null  uint8         \n",
      " 24  hotel_city_Amsterdam                        515738 non-null  uint8         \n",
      " 25  hotel_city_Barcelona                        515738 non-null  uint8         \n",
      " 26  hotel_city_London                           515738 non-null  uint8         \n",
      " 27  hotel_city_Milan                            515738 non-null  uint8         \n",
      " 28  hotel_city_Paris                            515738 non-null  uint8         \n",
      " 29  hotel_city_Vienna                           515738 non-null  uint8         \n",
      " 30  reviewer_nationality_0                      515738 non-null  int64         \n",
      " 31  reviewer_nationality_1                      515738 non-null  int64         \n",
      " 32  reviewer_nationality_2                      515738 non-null  int64         \n",
      " 33  reviewer_nationality_3                      515738 non-null  int64         \n",
      " 34  reviewer_nationality_4                      515738 non-null  int64         \n",
      " 35  reviewer_nationality_5                      515738 non-null  int64         \n",
      " 36  reviewer_nationality_6                      515738 non-null  int64         \n",
      " 37  reviewer_nationality_7                      515738 non-null  int64         \n",
      " 38  review_year                                 515738 non-null  int64         \n",
      " 39  review_quater                               515738 non-null  int64         \n",
      " 40  review_month                                515738 non-null  int64         \n",
      " 41  num_nights                                  515738 non-null  float64       \n",
      " 42  tags_leisure trip                           515738 non-null  int64         \n",
      " 43  tags_submitted from a mobile device         515738 non-null  int64         \n",
      " 44  tags_couple                                 515738 non-null  int64         \n",
      " 45  tags_solo traveler                          515738 non-null  int64         \n",
      " 46  tags_business trip                          515738 non-null  int64         \n",
      " 47  tags_group                                  515738 non-null  int64         \n",
      " 48  tags_family with young children             515738 non-null  int64         \n",
      " 49  tags_double room                            515738 non-null  int64         \n",
      " 50  tags_standard double room                   515738 non-null  int64         \n",
      " 51  tags_superior double room                   515738 non-null  int64         \n",
      " 52  tags_family with older children             515738 non-null  int64         \n",
      " 53  tags_deluxe double room                     515738 non-null  int64         \n",
      " 54  tags_double or twin room                    515738 non-null  int64         \n",
      " 55  tags_standard double or twin room           515738 non-null  int64         \n",
      " 56  tags_classic double room                    515738 non-null  int64         \n",
      " 57  tags_superior double or twin room           515738 non-null  int64         \n",
      " 58  tags_2 rooms                                515738 non-null  int64         \n",
      " 59  tags_standard twin room                     515738 non-null  int64         \n",
      " 60  tags_single room                            515738 non-null  int64         \n",
      "dtypes: datetime64[ns](1), float64(5), int64(37), object(6), uint8(12)\n",
      "memory usage: 198.7+ MB\n"
     ]
    }
   ],
   "source": [
    "hotels = add_column(hotels, lst_tags_pop2)\n",
    "hotels.info()"
   ]
  },
  {
   "cell_type": "markdown",
   "metadata": {},
   "source": [
    "**negative_review и  positive_review**"
   ]
  },
  {
   "cell_type": "markdown",
   "metadata": {},
   "source": [
    "\n",
    "исследуем тональность отзывов"
   ]
  },
  {
   "cell_type": "code",
   "execution_count": 191,
   "metadata": {
    "execution": {
     "iopub.execute_input": "2023-07-16T08:24:03.760981Z",
     "iopub.status.busy": "2023-07-16T08:24:03.760254Z",
     "iopub.status.idle": "2023-07-16T08:24:15.039368Z",
     "shell.execute_reply": "2023-07-16T08:24:15.037861Z",
     "shell.execute_reply.started": "2023-07-16T08:24:03.760944Z"
    }
   },
   "outputs": [
    {
     "name": "stdout",
     "output_type": "stream",
     "text": [
      "Requirement already satisfied: nltk in /opt/conda/lib/python3.10/site-packages (3.2.4)\n",
      "Requirement already satisfied: six in /opt/conda/lib/python3.10/site-packages (from nltk) (1.16.0)\n"
     ]
    }
   ],
   "source": [
    "!pip install nltk"
   ]
  },
  {
   "cell_type": "code",
   "execution_count": 50,
   "metadata": {
    "execution": {
     "iopub.execute_input": "2023-07-16T03:31:59.876871Z",
     "iopub.status.busy": "2023-07-16T03:31:59.876427Z",
     "iopub.status.idle": "2023-07-16T03:32:00.858093Z",
     "shell.execute_reply": "2023-07-16T03:32:00.856962Z",
     "shell.execute_reply.started": "2023-07-16T03:31:59.876839Z"
    }
   },
   "outputs": [
    {
     "name": "stdout",
     "output_type": "stream",
     "text": [
      "[nltk_data] Downloading package vader_lexicon to\n",
      "[nltk_data]     /usr/share/nltk_data...\n",
      "[nltk_data]   Package vader_lexicon is already up-to-date!\n"
     ]
    },
    {
     "name": "stderr",
     "output_type": "stream",
     "text": [
      "/opt/conda/lib/python3.10/site-packages/nltk/twitter/__init__.py:20: UserWarning: The twython library has not been installed. Some functionality from the twitter package will not be available.\n",
      "  warnings.warn(\"The twython library has not been installed. \"\n"
     ]
    }
   ],
   "source": [
    "import nltk\n",
    "from nltk.sentiment.vader import SentimentIntensityAnalyzer\n",
    "import time\n",
    "nltk.downloader.download('vader_lexicon')\n",
    "\n",
    "sent_analyzer = SentimentIntensityAnalyzer()"
   ]
  },
  {
   "cell_type": "code",
   "execution_count": 192,
   "metadata": {
    "execution": {
     "iopub.execute_input": "2023-07-16T08:24:37.319673Z",
     "iopub.status.busy": "2023-07-16T08:24:37.319205Z",
     "iopub.status.idle": "2023-07-16T08:24:37.376588Z",
     "shell.execute_reply": "2023-07-16T08:24:37.375468Z",
     "shell.execute_reply.started": "2023-07-16T08:24:37.319637Z"
    }
   },
   "outputs": [],
   "source": [
    "lst_scores = ['neg', 'neu', 'pos', 'compound']\n",
    "\n",
    "for el in lst_scores:\n",
    "    hotels['negative_review_'+el] = None\n",
    "    hotels['positive_review_'+el] = None"
   ]
  },
  {
   "cell_type": "code",
   "execution_count": 193,
   "metadata": {
    "execution": {
     "iopub.execute_input": "2023-07-16T08:24:44.468238Z",
     "iopub.status.busy": "2023-07-16T08:24:44.467805Z",
     "iopub.status.idle": "2023-07-16T08:31:35.547054Z",
     "shell.execute_reply": "2023-07-16T08:31:35.546139Z",
     "shell.execute_reply.started": "2023-07-16T08:24:44.468204Z"
    }
   },
   "outputs": [],
   "source": [
    "# функция для создания новых признаков анализа тональности отзывов\n",
    "\n",
    "def review_tone_score(line):\n",
    "    dict_ton_pos = sent_analyzer.polarity_scores(line['positive_review'])\n",
    "    dict_ton_neg = sent_analyzer.polarity_scores(line['negative_review'])\n",
    "    \n",
    "    for el in lst_scores:\n",
    "        \n",
    "        line['positive_review_'+el] = dict_ton_pos[el]\n",
    "        line['negative_review_'+el] = dict_ton_neg[el]\n",
    "    return line\n",
    "\n",
    "hotels = hotels.apply(review_tone_score, axis =1)  "
   ]
  },
  {
   "cell_type": "code",
   "execution_count": 194,
   "metadata": {
    "execution": {
     "iopub.execute_input": "2023-07-16T08:32:55.693362Z",
     "iopub.status.busy": "2023-07-16T08:32:55.692954Z",
     "iopub.status.idle": "2023-07-16T08:32:56.303829Z",
     "shell.execute_reply": "2023-07-16T08:32:56.302503Z",
     "shell.execute_reply.started": "2023-07-16T08:32:55.693332Z"
    }
   },
   "outputs": [
    {
     "name": "stdout",
     "output_type": "stream",
     "text": [
      "<class 'pandas.core.frame.DataFrame'>\n",
      "RangeIndex: 515738 entries, 0 to 515737\n",
      "Data columns (total 69 columns):\n",
      " #   Column                                      Non-Null Count   Dtype         \n",
      "---  ------                                      --------------   -----         \n",
      " 0   hotel_address                               515738 non-null  object        \n",
      " 1   additional_number_of_scoring                515738 non-null  int64         \n",
      " 2   review_date                                 515738 non-null  datetime64[ns]\n",
      " 3   average_score                               515738 non-null  float64       \n",
      " 4   hotel_name                                  515738 non-null  object        \n",
      " 5   reviewer_nationality                        515738 non-null  object        \n",
      " 6   negative_review                             515738 non-null  object        \n",
      " 7   review_total_negative_word_counts           515738 non-null  int64         \n",
      " 8   total_number_of_reviews                     515738 non-null  int64         \n",
      " 9   positive_review                             515738 non-null  object        \n",
      " 10  review_total_positive_word_counts           515738 non-null  int64         \n",
      " 11  total_number_of_reviews_reviewer_has_given  515738 non-null  int64         \n",
      " 12  tags                                        515738 non-null  object        \n",
      " 13  days_since_review                           515738 non-null  int64         \n",
      " 14  lat                                         515738 non-null  float64       \n",
      " 15  lng                                         515738 non-null  float64       \n",
      " 16  sample                                      515738 non-null  int64         \n",
      " 17  reviewer_score                              515738 non-null  float64       \n",
      " 18  hotel_country_Austria                       515738 non-null  int64         \n",
      " 19  hotel_country_France                        515738 non-null  int64         \n",
      " 20  hotel_country_Italy                         515738 non-null  int64         \n",
      " 21  hotel_country_Kingdom                       515738 non-null  int64         \n",
      " 22  hotel_country_Netherlands                   515738 non-null  int64         \n",
      " 23  hotel_country_Spain                         515738 non-null  int64         \n",
      " 24  hotel_city_Amsterdam                        515738 non-null  int64         \n",
      " 25  hotel_city_Barcelona                        515738 non-null  int64         \n",
      " 26  hotel_city_London                           515738 non-null  int64         \n",
      " 27  hotel_city_Milan                            515738 non-null  int64         \n",
      " 28  hotel_city_Paris                            515738 non-null  int64         \n",
      " 29  hotel_city_Vienna                           515738 non-null  int64         \n",
      " 30  reviewer_nationality_0                      515738 non-null  int64         \n",
      " 31  reviewer_nationality_1                      515738 non-null  int64         \n",
      " 32  reviewer_nationality_2                      515738 non-null  int64         \n",
      " 33  reviewer_nationality_3                      515738 non-null  int64         \n",
      " 34  reviewer_nationality_4                      515738 non-null  int64         \n",
      " 35  reviewer_nationality_5                      515738 non-null  int64         \n",
      " 36  reviewer_nationality_6                      515738 non-null  int64         \n",
      " 37  reviewer_nationality_7                      515738 non-null  int64         \n",
      " 38  review_year                                 515738 non-null  int64         \n",
      " 39  review_quater                               515738 non-null  int64         \n",
      " 40  review_month                                515738 non-null  int64         \n",
      " 41  num_nights                                  515738 non-null  float64       \n",
      " 42  tags_leisure trip                           515738 non-null  int64         \n",
      " 43  tags_submitted from a mobile device         515738 non-null  int64         \n",
      " 44  tags_couple                                 515738 non-null  int64         \n",
      " 45  tags_solo traveler                          515738 non-null  int64         \n",
      " 46  tags_business trip                          515738 non-null  int64         \n",
      " 47  tags_group                                  515738 non-null  int64         \n",
      " 48  tags_family with young children             515738 non-null  int64         \n",
      " 49  tags_double room                            515738 non-null  int64         \n",
      " 50  tags_standard double room                   515738 non-null  int64         \n",
      " 51  tags_superior double room                   515738 non-null  int64         \n",
      " 52  tags_family with older children             515738 non-null  int64         \n",
      " 53  tags_deluxe double room                     515738 non-null  int64         \n",
      " 54  tags_double or twin room                    515738 non-null  int64         \n",
      " 55  tags_standard double or twin room           515738 non-null  int64         \n",
      " 56  tags_classic double room                    515738 non-null  int64         \n",
      " 57  tags_superior double or twin room           515738 non-null  int64         \n",
      " 58  tags_2 rooms                                515738 non-null  int64         \n",
      " 59  tags_standard twin room                     515738 non-null  int64         \n",
      " 60  tags_single room                            515738 non-null  int64         \n",
      " 61  negative_review_neg                         515738 non-null  float64       \n",
      " 62  positive_review_neg                         515738 non-null  float64       \n",
      " 63  negative_review_neu                         515738 non-null  float64       \n",
      " 64  positive_review_neu                         515738 non-null  float64       \n",
      " 65  negative_review_pos                         515738 non-null  float64       \n",
      " 66  positive_review_pos                         515738 non-null  float64       \n",
      " 67  negative_review_compound                    515738 non-null  float64       \n",
      " 68  positive_review_compound                    515738 non-null  float64       \n",
      "dtypes: datetime64[ns](1), float64(13), int64(49), object(6)\n",
      "memory usage: 271.5+ MB\n"
     ]
    }
   ],
   "source": [
    "hotels.info()"
   ]
  },
  {
   "cell_type": "code",
   "execution_count": 195,
   "metadata": {
    "execution": {
     "iopub.execute_input": "2023-07-16T08:33:02.453120Z",
     "iopub.status.busy": "2023-07-16T08:33:02.452704Z",
     "iopub.status.idle": "2023-07-16T08:33:02.832726Z",
     "shell.execute_reply": "2023-07-16T08:33:02.831538Z",
     "shell.execute_reply.started": "2023-07-16T08:33:02.453090Z"
    }
   },
   "outputs": [
    {
     "data": {
      "text/plain": [
       "['additional_number_of_scoring',\n",
       " 'average_score',\n",
       " 'review_total_negative_word_counts',\n",
       " 'total_number_of_reviews',\n",
       " 'review_total_positive_word_counts',\n",
       " 'total_number_of_reviews_reviewer_has_given',\n",
       " 'days_since_review',\n",
       " 'lat',\n",
       " 'lng',\n",
       " 'sample',\n",
       " 'reviewer_score',\n",
       " 'hotel_country_Austria',\n",
       " 'hotel_country_France',\n",
       " 'hotel_country_Italy',\n",
       " 'hotel_country_Kingdom',\n",
       " 'hotel_country_Netherlands',\n",
       " 'hotel_country_Spain',\n",
       " 'hotel_city_Amsterdam',\n",
       " 'hotel_city_Barcelona',\n",
       " 'hotel_city_London',\n",
       " 'hotel_city_Milan',\n",
       " 'hotel_city_Paris',\n",
       " 'hotel_city_Vienna',\n",
       " 'reviewer_nationality_0',\n",
       " 'reviewer_nationality_1',\n",
       " 'reviewer_nationality_2',\n",
       " 'reviewer_nationality_3',\n",
       " 'reviewer_nationality_4',\n",
       " 'reviewer_nationality_5',\n",
       " 'reviewer_nationality_6',\n",
       " 'reviewer_nationality_7',\n",
       " 'review_year',\n",
       " 'review_quater',\n",
       " 'review_month',\n",
       " 'num_nights',\n",
       " 'tags_leisure trip',\n",
       " 'tags_submitted from a mobile device',\n",
       " 'tags_couple',\n",
       " 'tags_solo traveler',\n",
       " 'tags_business trip',\n",
       " 'tags_group',\n",
       " 'tags_family with young children',\n",
       " 'tags_double room',\n",
       " 'tags_standard double room',\n",
       " 'tags_superior double room',\n",
       " 'tags_family with older children',\n",
       " 'tags_deluxe double room',\n",
       " 'tags_double or twin room',\n",
       " 'tags_standard double or twin room',\n",
       " 'tags_classic double room',\n",
       " 'tags_superior double or twin room',\n",
       " 'tags_2 rooms',\n",
       " 'tags_standard twin room',\n",
       " 'tags_single room',\n",
       " 'negative_review_neg',\n",
       " 'positive_review_neg',\n",
       " 'negative_review_neu',\n",
       " 'positive_review_neu',\n",
       " 'negative_review_pos',\n",
       " 'positive_review_pos',\n",
       " 'negative_review_compound',\n",
       " 'positive_review_compound']"
      ]
     },
     "metadata": {},
     "output_type": "display_data"
    }
   ],
   "source": [
    "# создадим список с названием числовых признаков\n",
    "num_features = hotels.select_dtypes(include='number').columns.to_list()\n",
    "display(num_features)"
   ]
  },
  {
   "cell_type": "code",
   "execution_count": 196,
   "metadata": {
    "execution": {
     "iopub.execute_input": "2023-07-16T08:33:07.338421Z",
     "iopub.status.busy": "2023-07-16T08:33:07.338016Z",
     "iopub.status.idle": "2023-07-16T08:33:19.685736Z",
     "shell.execute_reply": "2023-07-16T08:33:19.684383Z",
     "shell.execute_reply.started": "2023-07-16T08:33:07.338391Z"
    }
   },
   "outputs": [
    {
     "data": {
      "image/png": "[encoded data removed]",
      "text/plain": [
       "<Figure size 2000x1500 with 64 Axes>"
      ]
     },
     "metadata": {},
     "output_type": "display_data"
    }
   ],
   "source": [
    "# создадим график - гистограмму по числовым признакам для визуальной оценке распределения признаков\n",
    "hotels[num_features].hist(figsize=(20, 15), color='lightblue', bins=10);"
   ]
  },
  {
   "cell_type": "code",
   "execution_count": 197,
   "metadata": {
    "execution": {
     "iopub.execute_input": "2023-07-16T08:33:37.330637Z",
     "iopub.status.busy": "2023-07-16T08:33:37.330229Z",
     "iopub.status.idle": "2023-07-16T08:33:38.478102Z",
     "shell.execute_reply": "2023-07-16T08:33:38.476953Z",
     "shell.execute_reply.started": "2023-07-16T08:33:37.330604Z"
    }
   },
   "outputs": [],
   "source": [
    "# нормальизуем числовые признаки\n",
    "\n",
    "hotels_sc = hotels.copy()\n",
    "\n",
    "from sklearn.preprocessing import MinMaxScaler\n",
    "\n",
    "# созданим списо признаков, которые будем нормализовывать\n",
    "selected_features = ['review_total_negative_word_counts', \n",
    "           'review_total_positive_word_counts', \n",
    "           'total_number_of_reviews_reviewer_has_given', \n",
    "           'additional_number_of_scoring', \n",
    "                     'days_since_review', 'num_nights']\n",
    "\n",
    "# инициализируем нормализатор MinMaxScaler\n",
    "mm_scaler =  MinMaxScaler()\n",
    "\n",
    "# вычисляем среднее и стандартное отклонение \n",
    "mm_scaler.fit(hotels_sc[selected_features])\n",
    "\n",
    "# применяем стандартизацию ко всем выбранным признакам в df\n",
    "hotels_sc[selected_features] = mm_scaler.transform(hotels_sc[selected_features])"
   ]
  },
  {
   "cell_type": "code",
   "execution_count": 198,
   "metadata": {
    "execution": {
     "iopub.execute_input": "2023-07-16T08:33:47.520336Z",
     "iopub.status.busy": "2023-07-16T08:33:47.519942Z",
     "iopub.status.idle": "2023-07-16T08:33:47.793647Z",
     "shell.execute_reply": "2023-07-16T08:33:47.792310Z",
     "shell.execute_reply.started": "2023-07-16T08:33:47.520306Z"
    }
   },
   "outputs": [],
   "source": [
    "hotels = hotels_sc.copy()"
   ]
  },
  {
   "cell_type": "code",
   "execution_count": 199,
   "metadata": {
    "execution": {
     "iopub.execute_input": "2023-07-16T08:33:51.554305Z",
     "iopub.status.busy": "2023-07-16T08:33:51.553588Z",
     "iopub.status.idle": "2023-07-16T08:33:51.562268Z",
     "shell.execute_reply": "2023-07-16T08:33:51.560878Z",
     "shell.execute_reply.started": "2023-07-16T08:33:51.554261Z"
    }
   },
   "outputs": [],
   "source": [
    "\n",
    "# функция для вывода признаков с высокой кореляцией\n",
    "def get_high_correlation(df, threshold=0.7):\n",
    "    corr = df.corr().abs()\n",
    "   # high_corr = (corr[(corr > threshold) & (corr != 1)]\n",
    "    high_corr = (corr[(corr > threshold)]\n",
    "                      .stack()\n",
    "                      .reset_index()\n",
    "                      .rename(columns={0: 'correlation', 'level_0': 'feature_1', 'level_1': 'feature_2'}))\n",
    "    high_corr = high_corr[high_corr['feature_1'] != high_corr['feature_2']].sort_values(by='correlation', ascending=False)\n",
    "                      \n",
    "    return high_corr"
   ]
  },
  {
   "cell_type": "code",
   "execution_count": 200,
   "metadata": {
    "execution": {
     "iopub.execute_input": "2023-07-16T08:33:59.035857Z",
     "iopub.status.busy": "2023-07-16T08:33:59.035394Z",
     "iopub.status.idle": "2023-07-16T08:34:04.600727Z",
     "shell.execute_reply": "2023-07-16T08:34:04.599685Z",
     "shell.execute_reply.started": "2023-07-16T08:33:59.035822Z"
    }
   },
   "outputs": [
    {
     "name": "stderr",
     "output_type": "stream",
     "text": [
      "/tmp/ipykernel_32/2882169375.py:3: FutureWarning: The default value of numeric_only in DataFrame.corr is deprecated. In a future version, it will default to False. Select only valid columns or specify the value of numeric_only to silence this warning.\n",
      "  corr = df.corr().abs()\n"
     ]
    },
    {
     "data": {
      "text/html": [
       "<div>\n",
       "<style scoped>\n",
       "    .dataframe tbody tr th:only-of-type {\n",
       "        vertical-align: middle;\n",
       "    }\n",
       "\n",
       "    .dataframe tbody tr th {\n",
       "        vertical-align: top;\n",
       "    }\n",
       "\n",
       "    .dataframe thead th {\n",
       "        text-align: right;\n",
       "    }\n",
       "</style>\n",
       "<table border=\"1\" class=\"dataframe\">\n",
       "  <thead>\n",
       "    <tr style=\"text-align: right;\">\n",
       "      <th></th>\n",
       "      <th>feature_1</th>\n",
       "      <th>feature_2</th>\n",
       "      <th>correlation</th>\n",
       "    </tr>\n",
       "  </thead>\n",
       "  <tbody>\n",
       "    <tr>\n",
       "      <th>30</th>\n",
       "      <td>hotel_country_Netherlands</td>\n",
       "      <td>hotel_city_Amsterdam</td>\n",
       "      <td>1.000000</td>\n",
       "    </tr>\n",
       "    <tr>\n",
       "      <th>28</th>\n",
       "      <td>hotel_country_Kingdom</td>\n",
       "      <td>hotel_city_London</td>\n",
       "      <td>1.000000</td>\n",
       "    </tr>\n",
       "    <tr>\n",
       "      <th>46</th>\n",
       "      <td>hotel_city_Vienna</td>\n",
       "      <td>hotel_country_Austria</td>\n",
       "      <td>1.000000</td>\n",
       "    </tr>\n",
       "    <tr>\n",
       "      <th>43</th>\n",
       "      <td>hotel_city_Paris</td>\n",
       "      <td>hotel_country_France</td>\n",
       "      <td>1.000000</td>\n",
       "    </tr>\n",
       "    <tr>\n",
       "      <th>41</th>\n",
       "      <td>hotel_city_Milan</td>\n",
       "      <td>hotel_country_Italy</td>\n",
       "      <td>1.000000</td>\n",
       "    </tr>\n",
       "    <tr>\n",
       "      <th>39</th>\n",
       "      <td>hotel_city_London</td>\n",
       "      <td>hotel_country_Kingdom</td>\n",
       "      <td>1.000000</td>\n",
       "    </tr>\n",
       "    <tr>\n",
       "      <th>37</th>\n",
       "      <td>hotel_city_Barcelona</td>\n",
       "      <td>hotel_country_Spain</td>\n",
       "      <td>1.000000</td>\n",
       "    </tr>\n",
       "    <tr>\n",
       "      <th>34</th>\n",
       "      <td>hotel_city_Amsterdam</td>\n",
       "      <td>hotel_country_Netherlands</td>\n",
       "      <td>1.000000</td>\n",
       "    </tr>\n",
       "    <tr>\n",
       "      <th>33</th>\n",
       "      <td>hotel_country_Spain</td>\n",
       "      <td>hotel_city_Barcelona</td>\n",
       "      <td>1.000000</td>\n",
       "    </tr>\n",
       "    <tr>\n",
       "      <th>22</th>\n",
       "      <td>hotel_country_Austria</td>\n",
       "      <td>hotel_city_Vienna</td>\n",
       "      <td>1.000000</td>\n",
       "    </tr>\n",
       "    <tr>\n",
       "      <th>24</th>\n",
       "      <td>hotel_country_France</td>\n",
       "      <td>hotel_city_Paris</td>\n",
       "      <td>1.000000</td>\n",
       "    </tr>\n",
       "    <tr>\n",
       "      <th>26</th>\n",
       "      <td>hotel_country_Italy</td>\n",
       "      <td>hotel_city_Milan</td>\n",
       "      <td>1.000000</td>\n",
       "    </tr>\n",
       "    <tr>\n",
       "      <th>59</th>\n",
       "      <td>review_quater</td>\n",
       "      <td>review_month</td>\n",
       "      <td>0.969874</td>\n",
       "    </tr>\n",
       "    <tr>\n",
       "      <th>60</th>\n",
       "      <td>review_month</td>\n",
       "      <td>review_quater</td>\n",
       "      <td>0.969874</td>\n",
       "    </tr>\n",
       "    <tr>\n",
       "      <th>88</th>\n",
       "      <td>negative_review_neu</td>\n",
       "      <td>negative_review_neg</td>\n",
       "      <td>0.942532</td>\n",
       "    </tr>\n",
       "    <tr>\n",
       "      <th>85</th>\n",
       "      <td>negative_review_neg</td>\n",
       "      <td>negative_review_neu</td>\n",
       "      <td>0.942532</td>\n",
       "    </tr>\n",
       "    <tr>\n",
       "      <th>18</th>\n",
       "      <td>reviewer_score</td>\n",
       "      <td>sample</td>\n",
       "      <td>0.931753</td>\n",
       "    </tr>\n",
       "    <tr>\n",
       "      <th>17</th>\n",
       "      <td>sample</td>\n",
       "      <td>reviewer_score</td>\n",
       "      <td>0.931753</td>\n",
       "    </tr>\n",
       "    <tr>\n",
       "      <th>91</th>\n",
       "      <td>positive_review_neu</td>\n",
       "      <td>positive_review_pos</td>\n",
       "      <td>0.924598</td>\n",
       "    </tr>\n",
       "    <tr>\n",
       "      <th>93</th>\n",
       "      <td>positive_review_pos</td>\n",
       "      <td>positive_review_neu</td>\n",
       "      <td>0.924598</td>\n",
       "    </tr>\n",
       "    <tr>\n",
       "      <th>56</th>\n",
       "      <td>review_year</td>\n",
       "      <td>days_since_review</td>\n",
       "      <td>0.917266</td>\n",
       "    </tr>\n",
       "    <tr>\n",
       "      <th>9</th>\n",
       "      <td>days_since_review</td>\n",
       "      <td>review_year</td>\n",
       "      <td>0.917266</td>\n",
       "    </tr>\n",
       "    <tr>\n",
       "      <th>64</th>\n",
       "      <td>tags_leisure trip</td>\n",
       "      <td>tags_business trip</td>\n",
       "      <td>0.904034</td>\n",
       "    </tr>\n",
       "    <tr>\n",
       "      <th>68</th>\n",
       "      <td>tags_business trip</td>\n",
       "      <td>tags_leisure trip</td>\n",
       "      <td>0.904034</td>\n",
       "    </tr>\n",
       "    <tr>\n",
       "      <th>31</th>\n",
       "      <td>hotel_country_Spain</td>\n",
       "      <td>lat</td>\n",
       "      <td>0.844641</td>\n",
       "    </tr>\n",
       "    <tr>\n",
       "      <th>12</th>\n",
       "      <td>lat</td>\n",
       "      <td>hotel_city_Barcelona</td>\n",
       "      <td>0.844641</td>\n",
       "    </tr>\n",
       "    <tr>\n",
       "      <th>11</th>\n",
       "      <td>lat</td>\n",
       "      <td>hotel_country_Spain</td>\n",
       "      <td>0.844641</td>\n",
       "    </tr>\n",
       "    <tr>\n",
       "      <th>36</th>\n",
       "      <td>hotel_city_Barcelona</td>\n",
       "      <td>lat</td>\n",
       "      <td>0.844641</td>\n",
       "    </tr>\n",
       "    <tr>\n",
       "      <th>1</th>\n",
       "      <td>additional_number_of_scoring</td>\n",
       "      <td>total_number_of_reviews</td>\n",
       "      <td>0.824884</td>\n",
       "    </tr>\n",
       "    <tr>\n",
       "      <th>4</th>\n",
       "      <td>total_number_of_reviews</td>\n",
       "      <td>additional_number_of_scoring</td>\n",
       "      <td>0.824884</td>\n",
       "    </tr>\n",
       "    <tr>\n",
       "      <th>45</th>\n",
       "      <td>hotel_city_Vienna</td>\n",
       "      <td>lng</td>\n",
       "      <td>0.813260</td>\n",
       "    </tr>\n",
       "    <tr>\n",
       "      <th>20</th>\n",
       "      <td>hotel_country_Austria</td>\n",
       "      <td>lng</td>\n",
       "      <td>0.813260</td>\n",
       "    </tr>\n",
       "    <tr>\n",
       "      <th>15</th>\n",
       "      <td>lng</td>\n",
       "      <td>hotel_city_Vienna</td>\n",
       "      <td>0.813260</td>\n",
       "    </tr>\n",
       "    <tr>\n",
       "      <th>14</th>\n",
       "      <td>lng</td>\n",
       "      <td>hotel_country_Austria</td>\n",
       "      <td>0.813260</td>\n",
       "    </tr>\n",
       "    <tr>\n",
       "      <th>86</th>\n",
       "      <td>negative_review_neg</td>\n",
       "      <td>negative_review_compound</td>\n",
       "      <td>0.739397</td>\n",
       "    </tr>\n",
       "    <tr>\n",
       "      <th>95</th>\n",
       "      <td>negative_review_compound</td>\n",
       "      <td>negative_review_neg</td>\n",
       "      <td>0.739397</td>\n",
       "    </tr>\n",
       "  </tbody>\n",
       "</table>\n",
       "</div>"
      ],
      "text/plain": [
       "                       feature_1                     feature_2  correlation\n",
       "30     hotel_country_Netherlands          hotel_city_Amsterdam     1.000000\n",
       "28         hotel_country_Kingdom             hotel_city_London     1.000000\n",
       "46             hotel_city_Vienna         hotel_country_Austria     1.000000\n",
       "43              hotel_city_Paris          hotel_country_France     1.000000\n",
       "41              hotel_city_Milan           hotel_country_Italy     1.000000\n",
       "39             hotel_city_London         hotel_country_Kingdom     1.000000\n",
       "37          hotel_city_Barcelona           hotel_country_Spain     1.000000\n",
       "34          hotel_city_Amsterdam     hotel_country_Netherlands     1.000000\n",
       "33           hotel_country_Spain          hotel_city_Barcelona     1.000000\n",
       "22         hotel_country_Austria             hotel_city_Vienna     1.000000\n",
       "24          hotel_country_France              hotel_city_Paris     1.000000\n",
       "26           hotel_country_Italy              hotel_city_Milan     1.000000\n",
       "59                 review_quater                  review_month     0.969874\n",
       "60                  review_month                 review_quater     0.969874\n",
       "88           negative_review_neu           negative_review_neg     0.942532\n",
       "85           negative_review_neg           negative_review_neu     0.942532\n",
       "18                reviewer_score                        sample     0.931753\n",
       "17                        sample                reviewer_score     0.931753\n",
       "91           positive_review_neu           positive_review_pos     0.924598\n",
       "93           positive_review_pos           positive_review_neu     0.924598\n",
       "56                   review_year             days_since_review     0.917266\n",
       "9              days_since_review                   review_year     0.917266\n",
       "64             tags_leisure trip            tags_business trip     0.904034\n",
       "68            tags_business trip             tags_leisure trip     0.904034\n",
       "31           hotel_country_Spain                           lat     0.844641\n",
       "12                           lat          hotel_city_Barcelona     0.844641\n",
       "11                           lat           hotel_country_Spain     0.844641\n",
       "36          hotel_city_Barcelona                           lat     0.844641\n",
       "1   additional_number_of_scoring       total_number_of_reviews     0.824884\n",
       "4        total_number_of_reviews  additional_number_of_scoring     0.824884\n",
       "45             hotel_city_Vienna                           lng     0.813260\n",
       "20         hotel_country_Austria                           lng     0.813260\n",
       "15                           lng             hotel_city_Vienna     0.813260\n",
       "14                           lng         hotel_country_Austria     0.813260\n",
       "86           negative_review_neg      negative_review_compound     0.739397\n",
       "95      negative_review_compound           negative_review_neg     0.739397"
      ]
     },
     "metadata": {},
     "output_type": "display_data"
    }
   ],
   "source": [
    "high_corr = get_high_correlation(hotels)\n",
    "display(high_corr)"
   ]
  },
  {
   "cell_type": "code",
   "execution_count": 201,
   "metadata": {
    "execution": {
     "iopub.execute_input": "2023-07-16T08:36:24.490449Z",
     "iopub.status.busy": "2023-07-16T08:36:24.490005Z",
     "iopub.status.idle": "2023-07-16T08:36:24.674253Z",
     "shell.execute_reply": "2023-07-16T08:36:24.673095Z",
     "shell.execute_reply.started": "2023-07-16T08:36:24.490398Z"
    }
   },
   "outputs": [],
   "source": [
    "# удалим признаки с высокой корреляцие (> 0,9)\n",
    "# очевидно, что страна-город корр = 1\n",
    "hotels = hotels.drop(columns=['review_quater',\n",
    "                            'negative_review_neu',\n",
    "                           'positive_review_neu',\n",
    "                           'review_year',\n",
    "                            'tags_business trip',\n",
    "                            'total_number_of_reviews'\n",
    "                            'hotel_country_Spain',\n",
    "                            'hotel_country_Austria',\n",
    "                            'hotel_country_France',\n",
    "                            'hotel_country_Italy',\n",
    "                            'hotel_country_Kingdom',\n",
    "                            'hotel_country_Netherlands',\n",
    "                                   \n",
    "                                    ], axis=1)"
   ]
  },
  {
   "cell_type": "code",
   "execution_count": 203,
   "metadata": {
    "execution": {
     "iopub.execute_input": "2023-07-16T08:42:41.228154Z",
     "iopub.status.busy": "2023-07-16T08:42:41.227719Z",
     "iopub.status.idle": "2023-07-16T08:42:41.971716Z",
     "shell.execute_reply": "2023-07-16T08:42:41.970517Z",
     "shell.execute_reply.started": "2023-07-16T08:42:41.228122Z"
    }
   },
   "outputs": [
    {
     "name": "stdout",
     "output_type": "stream",
     "text": [
      "<class 'pandas.core.frame.DataFrame'>\n",
      "RangeIndex: 515738 entries, 0 to 515737\n",
      "Data columns (total 58 columns):\n",
      " #   Column                                      Non-Null Count   Dtype         \n",
      "---  ------                                      --------------   -----         \n",
      " 0   hotel_address                               515738 non-null  object        \n",
      " 1   additional_number_of_scoring                515738 non-null  float64       \n",
      " 2   review_date                                 515738 non-null  datetime64[ns]\n",
      " 3   average_score                               515738 non-null  float64       \n",
      " 4   hotel_name                                  515738 non-null  object        \n",
      " 5   reviewer_nationality                        515738 non-null  object        \n",
      " 6   negative_review                             515738 non-null  object        \n",
      " 7   review_total_negative_word_counts           515738 non-null  float64       \n",
      " 8   total_number_of_reviews                     515738 non-null  int64         \n",
      " 9   positive_review                             515738 non-null  object        \n",
      " 10  review_total_positive_word_counts           515738 non-null  float64       \n",
      " 11  total_number_of_reviews_reviewer_has_given  515738 non-null  float64       \n",
      " 12  tags                                        515738 non-null  object        \n",
      " 13  days_since_review                           515738 non-null  float64       \n",
      " 14  lat                                         515738 non-null  float64       \n",
      " 15  lng                                         515738 non-null  float64       \n",
      " 16  sample                                      515738 non-null  int64         \n",
      " 17  reviewer_score                              515738 non-null  float64       \n",
      " 18  hotel_city_Amsterdam                        515738 non-null  int64         \n",
      " 19  hotel_city_Barcelona                        515738 non-null  int64         \n",
      " 20  hotel_city_London                           515738 non-null  int64         \n",
      " 21  hotel_city_Milan                            515738 non-null  int64         \n",
      " 22  hotel_city_Paris                            515738 non-null  int64         \n",
      " 23  hotel_city_Vienna                           515738 non-null  int64         \n",
      " 24  reviewer_nationality_0                      515738 non-null  int64         \n",
      " 25  reviewer_nationality_1                      515738 non-null  int64         \n",
      " 26  reviewer_nationality_2                      515738 non-null  int64         \n",
      " 27  reviewer_nationality_3                      515738 non-null  int64         \n",
      " 28  reviewer_nationality_4                      515738 non-null  int64         \n",
      " 29  reviewer_nationality_5                      515738 non-null  int64         \n",
      " 30  reviewer_nationality_6                      515738 non-null  int64         \n",
      " 31  reviewer_nationality_7                      515738 non-null  int64         \n",
      " 32  review_month                                515738 non-null  int64         \n",
      " 33  num_nights                                  515738 non-null  float64       \n",
      " 34  tags_leisure trip                           515738 non-null  int64         \n",
      " 35  tags_submitted from a mobile device         515738 non-null  int64         \n",
      " 36  tags_couple                                 515738 non-null  int64         \n",
      " 37  tags_solo traveler                          515738 non-null  int64         \n",
      " 38  tags_group                                  515738 non-null  int64         \n",
      " 39  tags_family with young children             515738 non-null  int64         \n",
      " 40  tags_double room                            515738 non-null  int64         \n",
      " 41  tags_standard double room                   515738 non-null  int64         \n",
      " 42  tags_superior double room                   515738 non-null  int64         \n",
      " 43  tags_family with older children             515738 non-null  int64         \n",
      " 44  tags_deluxe double room                     515738 non-null  int64         \n",
      " 45  tags_double or twin room                    515738 non-null  int64         \n",
      " 46  tags_standard double or twin room           515738 non-null  int64         \n",
      " 47  tags_classic double room                    515738 non-null  int64         \n",
      " 48  tags_superior double or twin room           515738 non-null  int64         \n",
      " 49  tags_2 rooms                                515738 non-null  int64         \n",
      " 50  tags_standard twin room                     515738 non-null  int64         \n",
      " 51  tags_single room                            515738 non-null  int64         \n",
      " 52  negative_review_neg                         515738 non-null  float64       \n",
      " 53  positive_review_neg                         515738 non-null  float64       \n",
      " 54  negative_review_pos                         515738 non-null  float64       \n",
      " 55  positive_review_pos                         515738 non-null  float64       \n",
      " 56  negative_review_compound                    515738 non-null  float64       \n",
      " 57  positive_review_compound                    515738 non-null  float64       \n",
      "dtypes: datetime64[ns](1), float64(16), int64(35), object(6)\n",
      "memory usage: 228.2+ MB\n"
     ]
    }
   ],
   "source": [
    "hotels.info()"
   ]
  },
  {
   "cell_type": "code",
   "execution_count": 209,
   "metadata": {
    "execution": {
     "iopub.execute_input": "2023-07-16T08:45:23.473164Z",
     "iopub.status.busy": "2023-07-16T08:45:23.472762Z",
     "iopub.status.idle": "2023-07-16T08:45:23.656406Z",
     "shell.execute_reply": "2023-07-16T08:45:23.655020Z",
     "shell.execute_reply.started": "2023-07-16T08:45:23.473135Z"
    }
   },
   "outputs": [],
   "source": [
    "# модель на признаках с dtypes \"object\" обучаться не будет, просто выберим их и удалим\n",
    "object_columns = [s for s in hotels.columns if hotels[s].dtypes == 'object']\n",
    "hotels.drop(object_columns, axis = 1, inplace=True)\n",
    "hotels.drop('review_date', axis = 1, inplace=True)"
   ]
  },
  {
   "cell_type": "code",
   "execution_count": 210,
   "metadata": {
    "execution": {
     "iopub.execute_input": "2023-07-16T08:45:31.165484Z",
     "iopub.status.busy": "2023-07-16T08:45:31.164338Z",
     "iopub.status.idle": "2023-07-16T08:45:32.946804Z",
     "shell.execute_reply": "2023-07-16T08:45:32.945296Z",
     "shell.execute_reply.started": "2023-07-16T08:45:31.165417Z"
    }
   },
   "outputs": [
    {
     "data": {
      "text/plain": [
       "<Axes: >"
      ]
     },
     "execution_count": 210,
     "metadata": {},
     "output_type": "execute_result"
    },
    {
     "data": {
      "image/png": "[encoded data removed]",
      "text/plain": [
       "<Figure size 1500x2000 with 1 Axes>"
      ]
     },
     "metadata": {},
     "output_type": "display_data"
    }
   ],
   "source": [
    "# оценим  значимость признаков\n",
    "from sklearn.feature_selection import f_classif\n",
    "\n",
    "y = hotels.query('sample == 1').drop(['sample'], axis=1).reviewer_score.values\n",
    "X = hotels.query('sample == 1').drop(['sample', 'reviewer_score'], axis=1)\n",
    "\n",
    "# визуализируем результат анализа значимости:\n",
    "feat_importances = pd.Series(f_classif(X[X.columns], y)[0], index = X.columns)\n",
    "feat_importances.sort_values(inplace = True)\n",
    "\n",
    "\n",
    "\n",
    "fig5, ax5 = plt.subplots(figsize=(15, 20))\n",
    "feat_importances.plot(kind = 'barh')"
   ]
  },
  {
   "cell_type": "code",
   "execution_count": 211,
   "metadata": {
    "execution": {
     "iopub.execute_input": "2023-07-16T08:46:12.088543Z",
     "iopub.status.busy": "2023-07-16T08:46:12.088117Z",
     "iopub.status.idle": "2023-07-16T08:46:12.095740Z",
     "shell.execute_reply": "2023-07-16T08:46:12.094514Z",
     "shell.execute_reply.started": "2023-07-16T08:46:12.088501Z"
    }
   },
   "outputs": [
    {
     "data": {
      "text/plain": [
       "49"
      ]
     },
     "execution_count": 211,
     "metadata": {},
     "output_type": "execute_result"
    }
   ],
   "source": [
    "len(feat_importances)"
   ]
  },
  {
   "cell_type": "code",
   "execution_count": 212,
   "metadata": {
    "execution": {
     "iopub.execute_input": "2023-07-16T08:46:47.950066Z",
     "iopub.status.busy": "2023-07-16T08:46:47.949675Z",
     "iopub.status.idle": "2023-07-16T08:46:48.030553Z",
     "shell.execute_reply": "2023-07-16T08:46:48.029258Z",
     "shell.execute_reply.started": "2023-07-16T08:46:47.950035Z"
    }
   },
   "outputs": [
    {
     "name": "stdout",
     "output_type": "stream",
     "text": [
      "<class 'pandas.core.frame.DataFrame'>\n",
      "RangeIndex: 515738 entries, 0 to 515737\n",
      "Data columns (total 26 columns):\n",
      " #   Column                                      Non-Null Count   Dtype  \n",
      "---  ------                                      --------------   -----  \n",
      " 0   additional_number_of_scoring                515738 non-null  float64\n",
      " 1   average_score                               515738 non-null  float64\n",
      " 2   review_total_negative_word_counts           515738 non-null  float64\n",
      " 3   total_number_of_reviews                     515738 non-null  int64  \n",
      " 4   review_total_positive_word_counts           515738 non-null  float64\n",
      " 5   total_number_of_reviews_reviewer_has_given  515738 non-null  float64\n",
      " 6   lat                                         515738 non-null  float64\n",
      " 7   lng                                         515738 non-null  float64\n",
      " 8   sample                                      515738 non-null  int64  \n",
      " 9   reviewer_score                              515738 non-null  float64\n",
      " 10  hotel_city_Barcelona                        515738 non-null  int64  \n",
      " 11  hotel_city_London                           515738 non-null  int64  \n",
      " 12  reviewer_nationality_2                      515738 non-null  int64  \n",
      " 13  reviewer_nationality_3                      515738 non-null  int64  \n",
      " 14  reviewer_nationality_4                      515738 non-null  int64  \n",
      " 15  reviewer_nationality_6                      515738 non-null  int64  \n",
      " 16  tags_leisure trip                           515738 non-null  int64  \n",
      " 17  tags_submitted from a mobile device         515738 non-null  int64  \n",
      " 18  tags_couple                                 515738 non-null  int64  \n",
      " 19  tags_solo traveler                          515738 non-null  int64  \n",
      " 20  tags_standard twin room                     515738 non-null  int64  \n",
      " 21  negative_review_neg                         515738 non-null  float64\n",
      " 22  positive_review_neg                         515738 non-null  float64\n",
      " 23  positive_review_pos                         515738 non-null  float64\n",
      " 24  negative_review_compound                    515738 non-null  float64\n",
      " 25  positive_review_compound                    515738 non-null  float64\n",
      "dtypes: float64(13), int64(13)\n",
      "memory usage: 102.3 MB\n"
     ]
    }
   ],
   "source": [
    "# посмотрим наименее значимые и удалим их\n",
    "lst_for_drop = feat_importances.nsmallest(25).index.to_list()\n",
    "hotels.drop(lst_for_drop, axis = 1, inplace=True)\n",
    "hotels.info() # оставили 24 наиболее значимых признаков"
   ]
  },
  {
   "cell_type": "code",
   "execution_count": 213,
   "metadata": {
    "execution": {
     "iopub.execute_input": "2023-07-16T08:49:06.683638Z",
     "iopub.status.busy": "2023-07-16T08:49:06.683166Z",
     "iopub.status.idle": "2023-07-16T08:49:06.813313Z",
     "shell.execute_reply": "2023-07-16T08:49:06.811982Z",
     "shell.execute_reply.started": "2023-07-16T08:49:06.683601Z"
    }
   },
   "outputs": [],
   "source": [
    "# Теперь выделим тестовую часть\n",
    "train_data = hotels.query('sample == 1').drop(['sample'], axis=1)\n",
    "test_data = hotels.query('sample == 0').drop(['sample'], axis=1)\n",
    "\n",
    "y = train_data.reviewer_score.values            # наш таргет\n",
    "X = train_data.drop(['reviewer_score'], axis=1) # удаляем все лишнее"
   ]
  },
  {
   "cell_type": "code",
   "execution_count": 214,
   "metadata": {
    "execution": {
     "iopub.execute_input": "2023-07-16T08:49:13.744986Z",
     "iopub.status.busy": "2023-07-16T08:49:13.742477Z",
     "iopub.status.idle": "2023-07-16T08:49:13.750115Z",
     "shell.execute_reply": "2023-07-16T08:49:13.749207Z",
     "shell.execute_reply.started": "2023-07-16T08:49:13.744941Z"
    }
   },
   "outputs": [],
   "source": [
    "# Загружаем инструмент для разделения датасета:\n",
    "from sklearn.model_selection import train_test_split"
   ]
  },
  {
   "cell_type": "code",
   "execution_count": 215,
   "metadata": {
    "execution": {
     "iopub.execute_input": "2023-07-16T08:49:17.380911Z",
     "iopub.status.busy": "2023-07-16T08:49:17.380154Z",
     "iopub.status.idle": "2023-07-16T08:49:17.507307Z",
     "shell.execute_reply": "2023-07-16T08:49:17.506092Z",
     "shell.execute_reply.started": "2023-07-16T08:49:17.380873Z"
    }
   },
   "outputs": [],
   "source": [
    "# Воспользуемся специальной функцие train_test_split для разбивки тестовых данных\n",
    "# выделим 20% данных на валидацию (параметр test_size)\n",
    "X_train, X_test, y_train, y_test = train_test_split(X, y, test_size=0.2, random_state=42)"
   ]
  },
  {
   "cell_type": "code",
   "execution_count": 216,
   "metadata": {
    "execution": {
     "iopub.execute_input": "2023-07-16T08:49:22.135106Z",
     "iopub.status.busy": "2023-07-16T08:49:22.134708Z",
     "iopub.status.idle": "2023-07-16T08:49:22.141459Z",
     "shell.execute_reply": "2023-07-16T08:49:22.140611Z",
     "shell.execute_reply.started": "2023-07-16T08:49:22.135072Z"
    }
   },
   "outputs": [
    {
     "data": {
      "text/plain": [
       "((128935, 25), (386803, 25), (386803, 24), (309442, 24), (77361, 24))"
      ]
     },
     "execution_count": 216,
     "metadata": {},
     "output_type": "execute_result"
    }
   ],
   "source": [
    "# проверяем\n",
    "test_data.shape, train_data.shape, X.shape, X_train.shape, X_test.shape"
   ]
  },
  {
   "cell_type": "code",
   "execution_count": 217,
   "metadata": {
    "execution": {
     "iopub.execute_input": "2023-07-16T08:49:31.114294Z",
     "iopub.status.busy": "2023-07-16T08:49:31.113870Z",
     "iopub.status.idle": "2023-07-16T08:49:31.119686Z",
     "shell.execute_reply": "2023-07-16T08:49:31.117973Z",
     "shell.execute_reply.started": "2023-07-16T08:49:31.114258Z"
    }
   },
   "outputs": [],
   "source": [
    "# Импортируем необходимые библиотеки:\n",
    "from sklearn.ensemble import RandomForestRegressor # инструмент для создания и обучения модели\n",
    "from sklearn import metrics # инструменты для оценки точности модели"
   ]
  },
  {
   "cell_type": "code",
   "execution_count": 218,
   "metadata": {
    "execution": {
     "iopub.execute_input": "2023-07-16T08:49:41.490965Z",
     "iopub.status.busy": "2023-07-16T08:49:41.490548Z",
     "iopub.status.idle": "2023-07-16T08:49:41.502086Z",
     "shell.execute_reply": "2023-07-16T08:49:41.501120Z",
     "shell.execute_reply.started": "2023-07-16T08:49:41.490932Z"
    }
   },
   "outputs": [],
   "source": [
    "# Создаём модель (НАСТРОЙКИ НЕ ТРОГАЕМ)\n",
    "#model = RandomForestRegressor(n_estimators=100, verbose=1, n_jobs=-1, random_state=RANDOM_SEED)\n",
    "model = RandomForestRegressor(n_estimators=100,random_state=42)"
   ]
  },
  {
   "cell_type": "code",
   "execution_count": 219,
   "metadata": {
    "execution": {
     "iopub.execute_input": "2023-07-16T08:49:46.760790Z",
     "iopub.status.busy": "2023-07-16T08:49:46.759858Z",
     "iopub.status.idle": "2023-07-16T08:56:33.067742Z",
     "shell.execute_reply": "2023-07-16T08:56:33.066394Z",
     "shell.execute_reply.started": "2023-07-16T08:49:46.760737Z"
    }
   },
   "outputs": [],
   "source": [
    "# Обучаем модель на тестовом наборе данных\n",
    "model.fit(X_train, y_train)\n",
    "\n",
    "# Используем обученную модель для предсказания рейтинга ресторанов в тестовой выборке.\n",
    "# Предсказанные значения записываем в переменную y_pred\n",
    "y_pred = model.predict(X_test)"
   ]
  },
  {
   "cell_type": "code",
   "execution_count": 220,
   "metadata": {
    "execution": {
     "iopub.execute_input": "2023-07-16T09:04:53.929290Z",
     "iopub.status.busy": "2023-07-16T09:04:53.928858Z",
     "iopub.status.idle": "2023-07-16T09:04:53.937515Z",
     "shell.execute_reply": "2023-07-16T09:04:53.936492Z",
     "shell.execute_reply.started": "2023-07-16T09:04:53.929259Z"
    }
   },
   "outputs": [
    {
     "name": "stdout",
     "output_type": "stream",
     "text": [
      "MAPE: 0.12575132190201535\n"
     ]
    }
   ],
   "source": [
    "# Сравниваем предсказанные значения (y_pred) с реальными (y_test), и смотрим насколько они в среднем отличаются\n",
    "print('MAPE:', metrics.mean_absolute_percentage_error(y_test, y_pred))"
   ]
  },
  {
   "cell_type": "markdown",
   "metadata": {},
   "source": [
    "Получили метрику MAPE: 0.12575132190201535"
   ]
  },
  {
   "cell_type": "code",
   "execution_count": 222,
   "metadata": {
    "execution": {
     "iopub.execute_input": "2023-07-16T09:19:46.016103Z",
     "iopub.status.busy": "2023-07-16T09:19:46.015686Z",
     "iopub.status.idle": "2023-07-16T09:19:46.039519Z",
     "shell.execute_reply": "2023-07-16T09:19:46.037878Z",
     "shell.execute_reply.started": "2023-07-16T09:19:46.016071Z"
    }
   },
   "outputs": [],
   "source": [
    "test_data = test_data.drop(['reviewer_score'], axis=1)"
   ]
  },
  {
   "cell_type": "code",
   "execution_count": 223,
   "metadata": {
    "execution": {
     "iopub.execute_input": "2023-07-16T09:19:48.220543Z",
     "iopub.status.busy": "2023-07-16T09:19:48.219864Z",
     "iopub.status.idle": "2023-07-16T09:19:56.599363Z",
     "shell.execute_reply": "2023-07-16T09:19:56.598366Z",
     "shell.execute_reply.started": "2023-07-16T09:19:48.220499Z"
    }
   },
   "outputs": [],
   "source": [
    "predict_submission = model.predict(test_data)"
   ]
  },
  {
   "cell_type": "code",
   "execution_count": 224,
   "metadata": {
    "execution": {
     "iopub.execute_input": "2023-07-16T09:20:01.409590Z",
     "iopub.status.busy": "2023-07-16T09:20:01.409188Z",
     "iopub.status.idle": "2023-07-16T09:20:01.416817Z",
     "shell.execute_reply": "2023-07-16T09:20:01.415914Z",
     "shell.execute_reply.started": "2023-07-16T09:20:01.409557Z"
    }
   },
   "outputs": [
    {
     "data": {
      "text/plain": [
       "array([8.683, 7.752, 8.874, ..., 8.421, 9.651, 7.393])"
      ]
     },
     "execution_count": 224,
     "metadata": {},
     "output_type": "execute_result"
    }
   ],
   "source": [
    "predict_submission"
   ]
  },
  {
   "cell_type": "code",
   "execution_count": 225,
   "metadata": {
    "execution": {
     "iopub.execute_input": "2023-07-16T09:20:03.490950Z",
     "iopub.status.busy": "2023-07-16T09:20:03.490550Z",
     "iopub.status.idle": "2023-07-16T09:20:03.496657Z",
     "shell.execute_reply": "2023-07-16T09:20:03.495900Z",
     "shell.execute_reply.started": "2023-07-16T09:20:03.490917Z"
    }
   },
   "outputs": [
    {
     "data": {
      "text/plain": [
       "['reviewer_score', 'id']"
      ]
     },
     "execution_count": 225,
     "metadata": {},
     "output_type": "execute_result"
    }
   ],
   "source": [
    "list(sample_submission)"
   ]
  },
  {
   "cell_type": "code",
   "execution_count": 227,
   "metadata": {
    "execution": {
     "iopub.execute_input": "2023-07-16T09:33:17.412645Z",
     "iopub.status.busy": "2023-07-16T09:33:17.411569Z",
     "iopub.status.idle": "2023-07-16T09:33:17.729957Z",
     "shell.execute_reply": "2023-07-16T09:33:17.728831Z",
     "shell.execute_reply.started": "2023-07-16T09:33:17.412602Z"
    }
   },
   "outputs": [
    {
     "data": {
      "text/html": [
       "<div>\n",
       "<style scoped>\n",
       "    .dataframe tbody tr th:only-of-type {\n",
       "        vertical-align: middle;\n",
       "    }\n",
       "\n",
       "    .dataframe tbody tr th {\n",
       "        vertical-align: top;\n",
       "    }\n",
       "\n",
       "    .dataframe thead th {\n",
       "        text-align: right;\n",
       "    }\n",
       "</style>\n",
       "<table border=\"1\" class=\"dataframe\">\n",
       "  <thead>\n",
       "    <tr style=\"text-align: right;\">\n",
       "      <th></th>\n",
       "      <th>reviewer_score</th>\n",
       "      <th>id</th>\n",
       "    </tr>\n",
       "  </thead>\n",
       "  <tbody>\n",
       "    <tr>\n",
       "      <th>0</th>\n",
       "      <td>8.683</td>\n",
       "      <td>488440</td>\n",
       "    </tr>\n",
       "    <tr>\n",
       "      <th>1</th>\n",
       "      <td>7.752</td>\n",
       "      <td>274649</td>\n",
       "    </tr>\n",
       "    <tr>\n",
       "      <th>2</th>\n",
       "      <td>8.874</td>\n",
       "      <td>374688</td>\n",
       "    </tr>\n",
       "    <tr>\n",
       "      <th>3</th>\n",
       "      <td>9.766</td>\n",
       "      <td>404352</td>\n",
       "    </tr>\n",
       "    <tr>\n",
       "      <th>4</th>\n",
       "      <td>9.701</td>\n",
       "      <td>451596</td>\n",
       "    </tr>\n",
       "    <tr>\n",
       "      <th>5</th>\n",
       "      <td>9.241</td>\n",
       "      <td>302161</td>\n",
       "    </tr>\n",
       "    <tr>\n",
       "      <th>6</th>\n",
       "      <td>7.780</td>\n",
       "      <td>317079</td>\n",
       "    </tr>\n",
       "    <tr>\n",
       "      <th>7</th>\n",
       "      <td>7.523</td>\n",
       "      <td>13963</td>\n",
       "    </tr>\n",
       "    <tr>\n",
       "      <th>8</th>\n",
       "      <td>8.498</td>\n",
       "      <td>159785</td>\n",
       "    </tr>\n",
       "    <tr>\n",
       "      <th>9</th>\n",
       "      <td>7.553</td>\n",
       "      <td>195089</td>\n",
       "    </tr>\n",
       "  </tbody>\n",
       "</table>\n",
       "</div>"
      ],
      "text/plain": [
       "   reviewer_score      id\n",
       "0           8.683  488440\n",
       "1           7.752  274649\n",
       "2           8.874  374688\n",
       "3           9.766  404352\n",
       "4           9.701  451596\n",
       "5           9.241  302161\n",
       "6           7.780  317079\n",
       "7           7.523   13963\n",
       "8           8.498  159785\n",
       "9           7.553  195089"
      ]
     },
     "execution_count": 227,
     "metadata": {},
     "output_type": "execute_result"
    }
   ],
   "source": [
    "sample_submission['reviewer_score'] = predict_submission\n",
    "sample_submission.to_csv('submission.csv', index=False)\n",
    "sample_submission.head(10)"
   ]
  },
  {
   "cell_type": "code",
   "execution_count": null,
   "metadata": {},
   "outputs": [],
   "source": [
    "Выводы: про корреляцю\n",
    "    нормализацию, отпбор значимых признаков\n",
    "    выбросы"
   ]
  }
 ],
 "metadata": {
  "kernelspec": {
   "display_name": "Python 3",
   "language": "python",
   "name": "python3"
  },
  "language_info": {
   "codemirror_mode": {
    "name": "ipython",
    "version": 3
   },
   "file_extension": ".py",
   "mimetype": "text/x-python",
   "name": "python",
   "nbconvert_exporter": "python",
   "pygments_lexer": "ipython3",
   "version": "3.8.3"
  }
 },
 "nbformat": 4,
 "nbformat_minor": 4
}
